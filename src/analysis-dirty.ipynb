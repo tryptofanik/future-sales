{
 "cells": [
  {
   "cell_type": "markdown",
   "metadata": {
    "toc": true
   },
   "source": [
    "<h1>Table of Contents<span class=\"tocSkip\"></span></h1>\n",
    "<div class=\"toc\"><ul class=\"toc-item\"><li><span><a href=\"#Import,-setups\" data-toc-modified-id=\"Import,-setups-1\"><span class=\"toc-item-num\">1&nbsp;&nbsp;</span>Import, setups</a></span></li><li><span><a href=\"#Read-data\" data-toc-modified-id=\"Read-data-2\"><span class=\"toc-item-num\">2&nbsp;&nbsp;</span>Read data</a></span></li><li><span><a href=\"#EDA\" data-toc-modified-id=\"EDA-3\"><span class=\"toc-item-num\">3&nbsp;&nbsp;</span>EDA</a></span><ul class=\"toc-item\"><li><span><a href=\"#Impact-of-the-day\" data-toc-modified-id=\"Impact-of-the-day-3.1\"><span class=\"toc-item-num\">3.1&nbsp;&nbsp;</span>Impact of the day</a></span></li><li><span><a href=\"#Items-categories\" data-toc-modified-id=\"Items-categories-3.2\"><span class=\"toc-item-num\">3.2&nbsp;&nbsp;</span>Items categories</a></span></li><li><span><a href=\"#For-how-long-itmes-have-been-sold\" data-toc-modified-id=\"For-how-long-itmes-have-been-sold-3.3\"><span class=\"toc-item-num\">3.3&nbsp;&nbsp;</span>For how long itmes have been sold</a></span></li><li><span><a href=\"#Shops-analysis\" data-toc-modified-id=\"Shops-analysis-3.4\"><span class=\"toc-item-num\">3.4&nbsp;&nbsp;</span>Shops analysis</a></span></li><li><span><a href=\"#Did-shops-differ-in-offer?\" data-toc-modified-id=\"Did-shops-differ-in-offer?-3.5\"><span class=\"toc-item-num\">3.5&nbsp;&nbsp;</span>Did shops differ in offer?</a></span></li></ul></li></ul></div>"
   ]
  },
  {
   "cell_type": "markdown",
   "metadata": {},
   "source": [
    "# Import, setups"
   ]
  },
  {
   "cell_type": "code",
   "execution_count": null,
   "metadata": {
    "ExecuteTime": {
     "end_time": "2020-10-25T16:05:50.769121Z",
     "start_time": "2020-10-25T16:05:50.666335Z"
    }
   },
   "outputs": [],
   "source": [
    "%load_ext autoreload\n",
    "%autoreload 2"
   ]
  },
  {
   "cell_type": "code",
   "execution_count": null,
   "metadata": {
    "ExecuteTime": {
     "end_time": "2020-10-25T16:56:06.526063Z",
     "start_time": "2020-10-25T16:56:04.567925Z"
    },
    "pycharm": {
     "is_executing": true
    }
   },
   "outputs": [],
   "source": [
    "import pandas as pd\n",
    "import numpy as np\n",
    "import plotly\n",
    "import plotly.express as px\n",
    "import plotly.graph_objects as go\n",
    "from tqdm.notebook import tqdm\n",
    "import seaborn as sns\n",
    "\n",
    "from tensorflow.python.keras.models import Sequential\n",
    "from tensorflow.python.keras.layers import Dense, LSTM, Bidirectional\n",
    "from tensorflow.python.keras.optimizers import Adam\n",
    "from tensorflow.python.keras.callbacks import EarlyStopping, ModelCheckpoint\n",
    "\n",
    "import matplotlib.pyplot as plt\n",
    "from math import sqrt\n",
    "\n",
    "from statsmodels.graphics.gofplots import qqplot\n",
    "from statsmodels.stats.multitest import multipletests\n",
    "from statsmodels.tsa.seasonal import seasonal_decompose\n",
    "\n",
    "from sklearn.model_selection import TimeSeriesSplit\n",
    "from sklearn.preprocessing import LabelEncoder\n",
    "from sklearn.metrics import mean_squared_error\n",
    "\n",
    "import tensorflow.keras.backend as K\n",
    "\n",
    "import scipy\n",
    "\n",
    "import warnings"
   ]
  },
  {
   "cell_type": "markdown",
   "metadata": {},
   "source": [
    "# Read data"
   ]
  },
  {
   "cell_type": "code",
   "execution_count": null,
   "metadata": {
    "ExecuteTime": {
     "end_time": "2020-10-25T16:05:55.101241Z",
     "start_time": "2020-10-25T16:05:54.931978Z"
    }
   },
   "outputs": [],
   "source": [
    "DATA_PREFIX = '../data/'"
   ]
  },
  {
   "cell_type": "code",
   "execution_count": null,
   "metadata": {
    "ExecuteTime": {
     "end_time": "2020-10-25T16:05:58.844220Z",
     "start_time": "2020-10-25T16:05:55.117167Z"
    }
   },
   "outputs": [],
   "source": [
    "item_categories = pd.read_csv(DATA_PREFIX + 'item_categories.csv')\n",
    "items = pd.read_csv(DATA_PREFIX + 'items.csv')\n",
    "sales_train = pd.read_csv(DATA_PREFIX + 'sales_train.csv')\n",
    "shops = pd.read_csv(DATA_PREFIX + 'shops.csv')\n",
    "test = pd.read_csv(DATA_PREFIX + 'test.csv')"
   ]
  },
  {
   "cell_type": "code",
   "execution_count": null,
   "metadata": {
    "ExecuteTime": {
     "end_time": "2020-10-25T16:05:59.101293Z",
     "start_time": "2020-10-25T16:05:58.864096Z"
    }
   },
   "outputs": [],
   "source": [
    "shops.head()"
   ]
  },
  {
   "cell_type": "code",
   "execution_count": null,
   "metadata": {
    "ExecuteTime": {
     "end_time": "2020-10-25T16:05:59.529270Z",
     "start_time": "2020-10-25T16:05:59.141841Z"
    }
   },
   "outputs": [],
   "source": [
    "print(len(item_categories))\n",
    "item_categories.head()"
   ]
  },
  {
   "cell_type": "code",
   "execution_count": null,
   "metadata": {
    "ExecuteTime": {
     "end_time": "2020-10-25T16:05:59.695186Z",
     "start_time": "2020-10-25T16:05:59.535281Z"
    }
   },
   "outputs": [],
   "source": [
    "print(len(items))\n",
    "items.head()"
   ]
  },
  {
   "cell_type": "code",
   "execution_count": null,
   "metadata": {
    "ExecuteTime": {
     "end_time": "2020-10-25T16:06:00.166883Z",
     "start_time": "2020-10-25T16:05:59.868552Z"
    }
   },
   "outputs": [],
   "source": [
    "# Merge category of item to each of the items\n",
    "# items = items.merge(item_categories, on='item_category_id')\n",
    "items.head()"
   ]
  },
  {
   "cell_type": "code",
   "execution_count": null,
   "metadata": {
    "ExecuteTime": {
     "end_time": "2020-10-25T16:06:00.288420Z",
     "start_time": "2020-10-25T16:06:00.198006Z"
    }
   },
   "outputs": [],
   "source": [
    "sales_train.head()"
   ]
  },
  {
   "cell_type": "code",
   "execution_count": null,
   "metadata": {},
   "outputs": [],
   "source": [
    "sales_train.date_block_num.unique()"
   ]
  },
  {
   "cell_type": "code",
   "execution_count": null,
   "metadata": {
    "ExecuteTime": {
     "end_time": "2020-10-25T16:06:01.533967Z",
     "start_time": "2020-10-25T16:06:00.304815Z"
    }
   },
   "outputs": [],
   "source": [
    "sales_train = sales_train.merge(items.loc[:, ['item_id', 'item_category_id']], on='item_id')"
   ]
  },
  {
   "cell_type": "code",
   "execution_count": null,
   "metadata": {
    "ExecuteTime": {
     "end_time": "2020-10-25T16:06:03.886329Z",
     "start_time": "2020-10-25T16:06:01.579502Z"
    }
   },
   "outputs": [],
   "source": [
    "sales_train.describe()"
   ]
  },
  {
   "cell_type": "code",
   "execution_count": null,
   "metadata": {
    "ExecuteTime": {
     "end_time": "2020-10-25T16:06:04.359283Z",
     "start_time": "2020-10-25T16:06:04.033767Z"
    }
   },
   "outputs": [],
   "source": [
    "sales_train.info()"
   ]
  },
  {
   "cell_type": "code",
   "execution_count": null,
   "metadata": {
    "ExecuteTime": {
     "end_time": "2020-10-25T16:06:05.582015Z",
     "start_time": "2020-10-25T16:06:04.389780Z"
    }
   },
   "outputs": [],
   "source": [
    "sales_train.loc[:, 'date'] = pd.to_datetime(sales_train.date)"
   ]
  },
  {
   "cell_type": "code",
   "execution_count": null,
   "metadata": {
    "ExecuteTime": {
     "end_time": "2020-10-25T16:06:09.125482Z",
     "start_time": "2020-10-25T16:06:05.639026Z"
    }
   },
   "outputs": [],
   "source": [
    "sales_train = sales_train.sort_values(\n",
    "    ['date', 'shop_id', 'item_category_id', 'item_id']\n",
    ").reset_index(drop=True)"
   ]
  },
  {
   "cell_type": "code",
   "execution_count": null,
   "metadata": {
    "ExecuteTime": {
     "end_time": "2020-10-25T16:06:11.997255Z",
     "start_time": "2020-10-25T16:06:09.179183Z"
    },
    "scrolled": true
   },
   "outputs": [],
   "source": [
    "sales_train.loc[:, 'day'] = sales_train.date.dt.day\n",
    "sales_train.loc[:, 'month'] = sales_train.date.dt.month\n",
    "sales_train.loc[:, 'year'] = sales_train.date.dt.year\n",
    "sales_train.loc[:, 'dayofweek'] = sales_train.date.dt.dayofweek"
   ]
  },
  {
   "cell_type": "code",
   "execution_count": null,
   "metadata": {
    "ExecuteTime": {
     "end_time": "2020-10-25T16:06:13.365905Z",
     "start_time": "2020-10-25T16:06:12.030841Z"
    }
   },
   "outputs": [],
   "source": [
    "sales_train.loc[:, 'income'] = sales_train.item_price * sales_train.item_cnt_day"
   ]
  },
  {
   "cell_type": "code",
   "execution_count": null,
   "metadata": {},
   "outputs": [],
   "source": [
    "months = ['January', 'February', 'March', 'April', 'May', 'June', 'July', \n",
    "          'August', 'September', 'October', 'November', 'December']\n",
    "lstm_train = sales_train.groupby(['date_block_num', 'item_id', 'shop_id'])['item_cnt_day'].sum().reset_index()\n",
    "lstm_train = lstm_train.rename(columns={'item_cnt_day':'item_cnt_month'})"
   ]
  },
  {
   "cell_type": "markdown",
   "metadata": {},
   "source": [
    "# EDA"
   ]
  },
  {
   "cell_type": "code",
   "execution_count": null,
   "metadata": {},
   "outputs": [],
   "source": []
  },
  {
   "cell_type": "code",
   "execution_count": null,
   "metadata": {
    "ExecuteTime": {
     "end_time": "2020-10-25T16:06:13.712371Z",
     "start_time": "2020-10-25T16:06:13.371769Z"
    }
   },
   "outputs": [],
   "source": [
    "sales_train.head()"
   ]
  },
  {
   "cell_type": "code",
   "execution_count": null,
   "metadata": {
    "ExecuteTime": {
     "end_time": "2020-10-25T16:08:57.203482Z",
     "start_time": "2020-10-25T16:06:13.736384Z"
    }
   },
   "outputs": [],
   "source": [
    "px.histogram(sales_train.date)"
   ]
  },
  {
   "cell_type": "code",
   "execution_count": null,
   "metadata": {
    "ExecuteTime": {
     "end_time": "2020-10-25T16:08:58.022229Z",
     "start_time": "2020-10-25T16:08:57.219017Z"
    }
   },
   "outputs": [],
   "source": [
    "px.line(\n",
    "    sales_train.groupby('date_block_num')['item_id'].count().reset_index(), \n",
    "    x='date_block_num', y='item_id')"
   ]
  },
  {
   "cell_type": "code",
   "execution_count": null,
   "metadata": {
    "ExecuteTime": {
     "end_time": "2020-10-25T16:08:59.427356Z",
     "start_time": "2020-10-25T16:08:58.033200Z"
    }
   },
   "outputs": [],
   "source": [
    "months = ['', 'January', 'February', 'March', 'April', 'May', 'June', 'July', \n",
    "          'August', 'September', 'October', 'November', 'December']\n",
    "day_sales = sales_train.groupby(['year', 'month'])['income'].sum().reset_index()\n",
    "day_sales.loc[:, 'month'] = day_sales.month.apply(lambda x: months[x])\n",
    "day_sales = day_sales.reset_index()\n",
    "fig = px.scatter_polar(\n",
    "    day_sales, r='income', theta='month', color='index', \n",
    "    color_continuous_scale='viridis')\n",
    "fig.update_layout(\n",
    "    coloraxis_colorbar=dict(\n",
    "        title=\"months<br>since<br>beginning\",\n",
    "    ),\n",
    ")"
   ]
  },
  {
   "cell_type": "markdown",
   "metadata": {
    "ExecuteTime": {
     "end_time": "2020-10-25T13:21:40.187766Z",
     "start_time": "2020-10-25T13:21:39.460505Z"
    }
   },
   "source": [
    "## Impact of the day"
   ]
  },
  {
   "cell_type": "code",
   "execution_count": null,
   "metadata": {
    "ExecuteTime": {
     "end_time": "2020-10-25T16:09:00.144721Z",
     "start_time": "2020-10-25T16:08:59.441995Z"
    }
   },
   "outputs": [],
   "source": [
    "per_day_sales = sales_train.groupby(['dayofweek', 'date'])['income'].sum().reset_index()"
   ]
  },
  {
   "cell_type": "code",
   "execution_count": null,
   "metadata": {
    "ExecuteTime": {
     "end_time": "2020-10-25T16:09:00.567042Z",
     "start_time": "2020-10-25T16:09:00.156036Z"
    },
    "scrolled": false
   },
   "outputs": [],
   "source": [
    "px.box(\n",
    "    per_day_sales, \n",
    "    x='dayofweek', y='income', points='outliers')\\\n",
    ".update_layout(\n",
    "    yaxis_range=[0, per_day_sales.income.quantile(0.99)]\n",
    ")"
   ]
  },
  {
   "cell_type": "code",
   "execution_count": null,
   "metadata": {
    "ExecuteTime": {
     "end_time": "2020-10-25T16:09:00.762456Z",
     "start_time": "2020-10-25T16:09:00.571209Z"
    },
    "scrolled": true
   },
   "outputs": [],
   "source": [
    "results = []\n",
    "for day1 in range(7):\n",
    "    for day2 in range(day1 + 1, 7):\n",
    "        _, p = scipy.stats.ranksums(\n",
    "            x=per_day_sales.loc[per_day_sales.dayofweek==day1, 'income'],\n",
    "            y=per_day_sales.loc[per_day_sales.dayofweek==day2, 'income'],\n",
    "        )\n",
    "        results.append([(day1, day2), p])"
   ]
  },
  {
   "cell_type": "code",
   "execution_count": null,
   "metadata": {
    "ExecuteTime": {
     "end_time": "2020-10-25T16:09:01.074929Z",
     "start_time": "2020-10-25T16:09:00.778609Z"
    }
   },
   "outputs": [],
   "source": [
    "# Benjamini/Hochberg correction for p values when performing many tests\n",
    "_, p, _, _ = multipletests([i[1] for i in results], alpha=0.05, method='fdr_bh', returnsorted=False)\n",
    "for i in range(len(results)):\n",
    "    results[i][1] = p[i]\n",
    "    \n",
    "for days, p in results:\n",
    "    if p < 0.05:\n",
    "        print(days)"
   ]
  },
  {
   "cell_type": "markdown",
   "metadata": {},
   "source": [
    "From this test and from above histogram we see that from Monday to Thursay sales are the lowest (and also we can't say which day makes more income - those differences are statistically not significant). Every day from Friday to Sunday produces significantly more income that other working days. In particular Saturday outperforms every other day including Friday and Sunday. There is no siginificant difference between Friday and Sunday."
   ]
  },
  {
   "cell_type": "code",
   "execution_count": null,
   "metadata": {},
   "outputs": [],
   "source": []
  },
  {
   "cell_type": "markdown",
   "metadata": {},
   "source": [
    "## Items categories"
   ]
  },
  {
   "cell_type": "code",
   "execution_count": null,
   "metadata": {
    "ExecuteTime": {
     "end_time": "2020-10-25T16:09:01.249214Z",
     "start_time": "2020-10-25T16:09:01.096287Z"
    }
   },
   "outputs": [],
   "source": [
    "print(f'Number of unique items {len(items)}\\nNumber of categories {len(items.item_category_id.unique())}')"
   ]
  },
  {
   "cell_type": "code",
   "execution_count": null,
   "metadata": {
    "ExecuteTime": {
     "end_time": "2020-10-25T16:09:01.673152Z",
     "start_time": "2020-10-25T16:09:01.264007Z"
    }
   },
   "outputs": [],
   "source": [
    "px.histogram(items.groupby('item_category_id')['item_id'].count(), nbins=1000)\\\n",
    ".update_layout(xaxis_title='group size', yaxis_title='number of groups')"
   ]
  },
  {
   "cell_type": "code",
   "execution_count": null,
   "metadata": {
    "ExecuteTime": {
     "end_time": "2020-10-25T16:09:03.886765Z",
     "start_time": "2020-10-25T16:09:01.684935Z"
    }
   },
   "outputs": [],
   "source": [
    "tmp = sales_train.groupby(['item_category_id', 'item_id'])['item_price'].mean().reset_index()\n",
    "order = tmp.groupby('item_category_id').mean().reset_index().sort_values('item_price').item_category_id.tolist()\n",
    "px.box(\n",
    "    tmp,\n",
    "    x='item_category_id', y='item_price', log_y=True, category_orders={'item_category_id': order}\n",
    ")\\\n",
    ".update_layout(\n",
    "    xaxis_type='category',\n",
    "    width=1500\n",
    ")"
   ]
  },
  {
   "cell_type": "markdown",
   "metadata": {},
   "source": [
    "Categories differs in price to each other"
   ]
  },
  {
   "cell_type": "code",
   "execution_count": null,
   "metadata": {
    "ExecuteTime": {
     "end_time": "2020-10-25T16:09:04.026309Z",
     "start_time": "2020-10-25T16:09:03.892905Z"
    }
   },
   "outputs": [],
   "source": [
    "item_categories.loc[12] \n",
    "\n",
    "# indeed, the most expensive category is PS4 :)"
   ]
  },
  {
   "cell_type": "code",
   "execution_count": null,
   "metadata": {
    "ExecuteTime": {
     "end_time": "2020-10-25T16:09:04.176114Z",
     "start_time": "2020-10-25T16:09:04.039362Z"
    },
    "scrolled": true
   },
   "outputs": [],
   "source": [
    "item_categories.loc[71]\n",
    "\n",
    "# Gifts - Bags, Albums, Mouse Pads are the cheapest"
   ]
  },
  {
   "cell_type": "markdown",
   "metadata": {
    "ExecuteTime": {
     "end_time": "2020-10-25T15:19:11.379640Z",
     "start_time": "2020-10-25T15:19:11.290955Z"
    }
   },
   "source": [
    "## For how long items have been sold "
   ]
  },
  {
   "cell_type": "code",
   "execution_count": null,
   "metadata": {
    "ExecuteTime": {
     "end_time": "2020-10-25T16:09:04.318086Z",
     "start_time": "2020-10-25T16:09:04.182569Z"
    }
   },
   "outputs": [],
   "source": [
    "sales_train"
   ]
  },
  {
   "cell_type": "code",
   "execution_count": null,
   "metadata": {
    "ExecuteTime": {
     "end_time": "2020-10-25T16:10:56.786636Z",
     "start_time": "2020-10-25T16:10:55.470896Z"
    }
   },
   "outputs": [],
   "source": [
    "tmp = pd.pivot_table(sales_train, index='item_id', values='date', aggfunc=['min', 'max'])\n",
    "\n",
    "tmp.loc[:, 'min_date'] = tmp.loc[:, 'min'].date\n",
    "tmp.loc[:, 'max_date'] = tmp.loc[:, 'max'].date\n",
    "tmp = tmp.drop(['min', 'max'], axis=1)\n",
    "\n",
    "tmp.loc[:, 'item_last'] = (tmp.loc[:, 'max_date'] - tmp.loc[:, 'min_date']).dt.days\n",
    "\n",
    "tmp = tmp.sort_values(['min_date', 'item_last'], axis=0)"
   ]
  },
  {
   "cell_type": "code",
   "execution_count": null,
   "metadata": {
    "ExecuteTime": {
     "end_time": "2020-10-25T16:11:04.819004Z",
     "start_time": "2020-10-25T16:11:04.183915Z"
    }
   },
   "outputs": [],
   "source": [
    "px.histogram(tmp.item_last)\\\n",
    ".update_layout(\n",
    "    title='Histogram of time of products being sold',\n",
    "    xaxis_title='Number of days the product have been sold',\n",
    "    yaxis_title='# of products'\n",
    ")"
   ]
  },
  {
   "cell_type": "code",
   "execution_count": null,
   "metadata": {
    "ExecuteTime": {
     "end_time": "2020-10-25T16:31:25.854788Z",
     "start_time": "2020-10-25T16:30:36.904112Z"
    },
    "pycharm": {
     "is_executing": true
    }
   },
   "outputs": [],
   "source": [
    "fig = go.Figure()\n",
    "for i, (item, data) in enumerate(tmp.iterrows()):\n",
    "    data = data.values[:2]\n",
    "    fig.add_trace(\n",
    "        go.Scattergl(\n",
    "            x=data, y=[i, i], \n",
    "            mode='lines', \n",
    "            line=dict(color='red'),\n",
    "            showlegend=False,\n",
    "        )\n",
    "   )\n",
    "fig.show('browser')\n",
    "\n",
    "del fig"
   ]
  },
  {
   "cell_type": "code",
   "execution_count": null,
   "metadata": {
    "ExecuteTime": {
     "end_time": "2020-10-25T16:38:36.739227Z",
     "start_time": "2020-10-25T16:38:32.766792Z"
    },
    "pycharm": {
     "is_executing": true
    },
    "scrolled": true
   },
   "outputs": [],
   "source": [
    "px.histogram(x=tmp.min_date).show()\n",
    "px.histogram(x=tmp.max_date).show()\n",
    "px.histogram(x=tmp.min_date.dt.month).show()\n",
    "px.histogram(x=tmp.max_date.dt.month).show()\n",
    "px.histogram(x=tmp.min_date.dt.day).show()\n",
    "px.histogram(x=tmp.max_date.dt.day).show()"
   ]
  },
  {
   "cell_type": "markdown",
   "metadata": {},
   "source": [
    "As seen from those plots - most of items are introducted within two weeks after New Year. They are recalled the most offen within first two weeks of December."
   ]
  },
  {
   "cell_type": "code",
   "execution_count": null,
   "metadata": {
    "pycharm": {
     "is_executing": true
    }
   },
   "outputs": [],
   "source": []
  },
  {
   "cell_type": "markdown",
   "metadata": {
    "ExecuteTime": {
     "end_time": "2020-10-25T16:43:24.169378Z",
     "start_time": "2020-10-25T16:43:23.597908Z"
    }
   },
   "source": [
    "## Shops analysis"
   ]
  },
  {
   "cell_type": "code",
   "execution_count": null,
   "metadata": {
    "ExecuteTime": {
     "end_time": "2020-10-25T16:44:16.909717Z",
     "start_time": "2020-10-25T16:44:16.715793Z"
    },
    "pycharm": {
     "is_executing": true
    }
   },
   "outputs": [],
   "source": [
    "len(sales_train.shop_id.unique())"
   ]
  },
  {
   "cell_type": "code",
   "execution_count": null,
   "metadata": {
    "ExecuteTime": {
     "end_time": "2020-10-25T16:47:46.572903Z",
     "start_time": "2020-10-25T16:47:46.215150Z"
    },
    "pycharm": {
     "is_executing": true
    }
   },
   "outputs": [],
   "source": [
    "tmp = pd.pivot_table(sales_train, index='shop_id', values='date', aggfunc=['min', 'max'])\n",
    "tmp.loc[:, 'min_date'] = tmp.loc[:, 'min'].date\n",
    "tmp.loc[:, 'max_date'] = tmp.loc[:, 'max'].date\n",
    "tmp = tmp.drop(['min', 'max'], axis=1)\n",
    "tmp.loc[:, 'shop_last'] = (tmp.loc[:, 'max_date'] - tmp.loc[:, 'min_date']).dt.days\n",
    "tmp = tmp.sort_values(['min_date', 'shop_last'], axis=0)"
   ]
  },
  {
   "cell_type": "code",
   "execution_count": null,
   "metadata": {
    "ExecuteTime": {
     "end_time": "2020-10-25T16:47:46.778782Z",
     "start_time": "2020-10-25T16:47:46.576765Z"
    },
    "pycharm": {
     "is_executing": true
    }
   },
   "outputs": [],
   "source": [
    "fig = go.Figure()\n",
    "for i, (item, data) in enumerate(tmp.iterrows()):\n",
    "    data = data.values[:2]\n",
    "    fig.add_trace(\n",
    "        go.Scattergl(\n",
    "            x=data, y=[i, i], \n",
    "            mode='lines', \n",
    "            line=dict(color='red'),\n",
    "            showlegend=False,\n",
    "        )\n",
    "   )\n",
    "fig.show()\n",
    "del fig"
   ]
  },
  {
   "cell_type": "markdown",
   "metadata": {},
   "source": [
    "On average ~50 shops were constantly active. If show happend to be closed/open it was usually near New Year."
   ]
  },
  {
   "cell_type": "code",
   "execution_count": null,
   "metadata": {
    "pycharm": {
     "is_executing": true
    }
   },
   "outputs": [],
   "source": []
  },
  {
   "cell_type": "markdown",
   "metadata": {},
   "source": [
    "## Did shops differ in offer?"
   ]
  },
  {
   "cell_type": "code",
   "execution_count": null,
   "metadata": {
    "ExecuteTime": {
     "end_time": "2020-10-25T17:18:16.668014Z",
     "start_time": "2020-10-25T17:18:14.442364Z"
    },
    "pycharm": {
     "is_executing": true
    }
   },
   "outputs": [],
   "source": [
    "shop_specification = pd.pivot_table(\n",
    "    sales_train, index='shop_id', columns='item_category_id', values='income', aggfunc='sum'\n",
    ")\n",
    "sns.clustermap(shop_specification.fillna(False).astype(bool), cmap='gray', vmin=-0.5, vmax=1.2)"
   ]
  },
  {
   "cell_type": "code",
   "execution_count": null,
   "metadata": {
    "ExecuteTime": {
     "end_time": "2020-10-25T17:20:02.663171Z",
     "start_time": "2020-10-25T17:19:59.745029Z"
    },
    "pycharm": {
     "is_executing": true
    }
   },
   "outputs": [],
   "source": [
    "sns.clustermap(np.nan_to_num(shop_specification, 0))"
   ]
  },
  {
   "cell_type": "code",
   "execution_count": null,
   "metadata": {
    "ExecuteTime": {
     "end_time": "2020-10-25T17:20:07.421997Z",
     "start_time": "2020-10-25T17:20:05.370508Z"
    },
    "pycharm": {
     "is_executing": true
    }
   },
   "outputs": [],
   "source": [
    "sns.clustermap(np.log10(np.maximum(np.nan_to_num(shop_specification, 0), 1)))"
   ]
  },
  {
   "cell_type": "markdown",
   "metadata": {},
   "source": [
    "There are 3 clusters of shops. One comprises of most of the shops, they have big or huge earnings and sell similar kind of products. Within it we can distinguish approx. 6 shops that have enormous income.\n",
    "\n",
    "The second cluster have smaller earnings and in general shops within in have smaller diversity of products.\n",
    "\n",
    "This cluster is created by 2 shops which have very limited assortment. One of them sells products of completely different type than the others."
   ]
  },
  {
   "cell_type": "markdown",
   "metadata": {
    "pycharm": {
     "is_executing": true
    }
   },
   "source": [
    "# Data Preparation"
   ]
  },
  {
   "cell_type": "code",
   "execution_count": null,
   "metadata": {},
   "outputs": [],
   "source": [
    "seq_frame = sales_train.rename(columns={'item_cnt_day':'item_cnt_month'}).pivot_table(index = ['shop_id','item_id'],values = ['item_cnt_month'],columns = ['date_block_num'],fill_value = 0,aggfunc='sum').reset_index()\n",
    "seq_frame.fillna(0,inplace = True)\n",
    "seq_frame"
   ]
  },
  {
   "cell_type": "code",
   "execution_count": null,
   "metadata": {},
   "outputs": [],
   "source": [
    "seq_frame = seq_frame[seq_frame.shop_id.isin(test.shop_id.unique())]\n",
    "seq_frame = seq_frame[seq_frame.item_id.isin(test.item_id.unique())]"
   ]
  },
  {
   "cell_type": "code",
   "execution_count": null,
   "metadata": {},
   "outputs": [],
   "source": [
    "seq_frame = pd.merge(test,seq_frame,on = ['item_id','shop_id'],how = 'left')\n",
    "seq_frame.fillna(0,inplace = True)\n",
    "seq_frame"
   ]
  },
  {
   "cell_type": "code",
   "execution_count": null,
   "metadata": {},
   "outputs": [],
   "source": [
    "seq_frame.drop(['shop_id','item_id','ID'],inplace = True, axis=1)\n",
    "seq_frame"
   ]
  },
  {
   "cell_type": "code",
   "execution_count": null,
   "metadata": {},
   "outputs": [],
   "source": [
    "#all the columns before the second last one\n",
    "X_train_seq = seq_frame.iloc[:,:-2].to_numpy()\n",
    "# the second last one is the label\n",
    "y_train_seq = seq_frame.iloc[:,-2:-1].to_numpy()\n",
    "# all columns except last one\n",
    "X_test_seq = seq_frame.iloc[:,1:-1].to_numpy()\n",
    "# last one is the label\n",
    "y_test_seq = seq_frame.iloc[:,-1:].to_numpy()\n",
    "\n",
    "X_train_seq.shape, y_train_seq.shape, X_test_seq.shape, y_test_seq.shape"
   ]
  },
  {
   "cell_type": "code",
   "execution_count": null,
   "metadata": {},
   "outputs": [],
   "source": [
    "X_train_seq = X_train_seq.reshape((X_train_seq.shape[0], 32, 1))\n",
    "X_test_seq = X_test_seq.reshape((X_test_seq.shape[0], 32, 1))\n",
    "print(X_train_seq.shape, X_test_seq.shape)"
   ]
  },
  {
   "cell_type": "code",
   "execution_count": null,
   "metadata": {},
   "outputs": [],
   "source": [
    "lstm_train['item_cnt_month'] = lstm_train['item_cnt_month'].clip(0, 20)"
   ]
  },
  {
   "cell_type": "code",
   "execution_count": null,
   "metadata": {},
   "outputs": [],
   "source": [
    "lstm_train = lstm_train[lstm_train['shop_id'].isin(lstm_test.shop_id.unique())]"
   ]
  },
  {
   "cell_type": "code",
   "execution_count": null,
   "metadata": {},
   "outputs": [],
   "source": [
    "lstm_train.sort_values(by='date_block_num',ascending=True).head()\n",
    "time_inf = lstm_train.drop_duplicates(keep='first')"
   ]
  },
  {
   "cell_type": "code",
   "execution_count": null,
   "metadata": {},
   "outputs": [],
   "source": [
    "warnings.filterwarnings('ignore')\n",
    "\n",
    "for shop_id in time_inf.shop_id[0:3]:\n",
    "    for cat_id in time_inf.item_id[0:3]:\n",
    "        data_local = time_inf[time_inf['shop_id']==shop_id][time_inf['item_category_id']==cat_id]\n",
    "        res = seasonal_decompose(data_local.item_cnt_month.interpolate(), period=1, model='additive')\n",
    "        resplot = res.plot()"
   ]
  },
  {
   "cell_type": "code",
   "execution_count": null,
   "metadata": {},
   "outputs": [],
   "source": [
    "time_inf.set_index('date')['income'].plot(figsize=(16, 6))"
   ]
  },
  {
   "cell_type": "code",
   "execution_count": null,
   "metadata": {},
   "outputs": [],
   "source": [
    "time_inf['item_id'].isnull().values.any(), time_inf['shop_id'].isnull().values.any()"
   ]
  },
  {
   "cell_type": "code",
   "execution_count": null,
   "metadata": {},
   "outputs": [],
   "source": [
    "# maybe input shows that aren't opened on Mondays, etc as 0 income?"
   ]
  },
  {
   "cell_type": "code",
   "execution_count": null,
   "metadata": {},
   "outputs": [],
   "source": [
    "len(time_inf[['item_id', 'item_category_id']].duplicated(keep='last')), len(time_inf[['item_id', 'item_category_id']])"
   ]
  },
  {
   "cell_type": "code",
   "execution_count": null,
   "metadata": {},
   "outputs": [],
   "source": [
    "len(time_inf[['item_id', 'item_category_id']]), len(time_inf[['item_id', 'item_category_id']].drop_duplicates(keep='last'))"
   ]
  },
  {
   "cell_type": "code",
   "execution_count": null,
   "metadata": {},
   "outputs": [],
   "source": [
    "time_inf.head()"
   ]
  },
  {
   "cell_type": "code",
   "execution_count": null,
   "metadata": {},
   "outputs": [],
   "source": [
    "time_inf.fillna(0,inplace = True)"
   ]
  },
  {
   "cell_type": "code",
   "execution_count": null,
   "metadata": {},
   "outputs": [],
   "source": [
    "lstm_train = time_inf[time_inf.date_block_num<=32]\n",
    "lstm_test = time_inf[time_inf.date_block_num>32]"
   ]
  },
  {
   "cell_type": "code",
   "execution_count": null,
   "metadata": {},
   "outputs": [],
   "source": [
    "lstm_train = lstm_train[lstm_train['shop_id'].isin(lstm_test.shop_id.unique())]"
   ]
  },
  {
   "cell_type": "code",
   "execution_count": null,
   "metadata": {},
   "outputs": [],
   "source": [
    "lstm_train['item_cnt_month'] = lstm_train['item_cnt_month'].clip(0, 20)"
   ]
  },
  {
   "cell_type": "code",
   "execution_count": null,
   "metadata": {},
   "outputs": [],
   "source": [
    "X_train = lstm_train[['item_id', 'shop_id']].to_numpy()\n",
    "y_train = lstm_train['item_cnt_month'].to_numpy()\n",
    "X_test = lstm_test[['item_id', 'shop_id']].to_numpy()\n",
    "y_test = lstm_test['item_cnt_month'].to_numpy()"
   ]
  },
  {
   "cell_type": "code",
   "execution_count": null,
   "metadata": {
    "scrolled": true
   },
   "outputs": [],
   "source": [
    "X_train = X_train.reshape((X_train.shape[0], 1, X_train.shape[1]))\n",
    "X_test = X_test.reshape((X_test.shape[0], 1, X_test.shape[1]))\n",
    "print(X_train.shape, X_test.shape)"
   ]
  },
  {
   "cell_type": "markdown",
   "metadata": {},
   "source": [
    "# LSTM model for time series"
   ]
  },
  {
   "cell_type": "code",
   "execution_count": null,
   "metadata": {},
   "outputs": [],
   "source": [
    "def rmse(y_true, y_pred):\n",
    "        return K.sqrt(K.mean(K.square(y_pred - y_true))) "
   ]
  },
  {
   "cell_type": "code",
   "execution_count": null,
   "metadata": {},
   "outputs": [],
   "source": [
    "model = Sequential()\n",
    "model.add(LSTM(50, activation='relu', input_shape=(32, 1)))\n",
    "model.add(Dense(1))\n",
    "#opt = Adam(learning_rate=0.005)\n",
    "model.compile(loss='mse', optimizer='adam')"
   ]
  },
  {
   "cell_type": "code",
   "execution_count": null,
   "metadata": {},
   "outputs": [],
   "source": [
    "# int(len(X_train)/32)\n",
    "callback = EarlyStopping(monitor='loss', patience=3)\n",
    "model_check = ModelCheckpoint(\"./models\", monitor='loss',save_best_only=True,save_weights_only=False, mode='min')\n",
    "history = model.fit(X_train_seq, y_train_seq, batch_size = int(len(X_train)/32), epochs=50, verbose=2, shuffle=False, callbacks=[callback, model_check])"
   ]
  },
  {
   "cell_type": "code",
   "execution_count": null,
   "metadata": {},
   "outputs": [],
   "source": [
    "plt.plot(history.history['loss'], label='train')\n",
    "plt.legend()\n",
    "plt.show()"
   ]
  },
  {
   "cell_type": "markdown",
   "metadata": {
    "pycharm": {
     "is_executing": true
    }
   },
   "source": [
    "# Model validation"
   ]
  },
  {
   "cell_type": "code",
   "execution_count": null,
   "metadata": {
    "pycharm": {
     "is_executing": true
    }
   },
   "outputs": [],
   "source": [
    "predictions = model.predict(X_test_seq)\n",
    "X_test_seq = X_test_seq.reshape((X_test_seq.shape[0], X_test_seq.shape[1]))"
   ]
  },
  {
   "cell_type": "code",
   "execution_count": null,
   "metadata": {
    "pycharm": {
     "is_executing": true
    }
   },
   "outputs": [],
   "source": [
    "rmse = sqrt(mean_squared_error(predictions, y_test))\n",
    "print('RMSE: %.3f' % rmse)"
   ]
  },
  {
   "cell_type": "code",
   "execution_count": null,
   "metadata": {
    "pycharm": {
     "is_executing": true
    }
   },
   "outputs": [],
   "source": [
    "plt.plot(predictions, label='test data')\n",
    "plt.legend()\n",
    "plt.show()"
   ]
  },
  {
   "cell_type": "code",
   "execution_count": null,
   "metadata": {},
   "outputs": [],
   "source": []
  }
 ],
 "metadata": {
  "kernelspec": {
   "display_name": "Python 3",
   "language": "python",
   "name": "python3"
  },
  "language_info": {
   "codemirror_mode": {
    "name": "ipython",
    "version": 3
   },
   "file_extension": ".py",
   "mimetype": "text/x-python",
   "name": "python",
   "nbconvert_exporter": "python",
   "pygments_lexer": "ipython3",
   "version": "3.7.3"
  },
  "toc": {
   "base_numbering": 1,
   "nav_menu": {},
   "number_sections": true,
   "sideBar": true,
   "skip_h1_title": false,
   "title_cell": "Table of Contents",
   "title_sidebar": "Contents",
   "toc_cell": true,
   "toc_position": {},
   "toc_section_display": true,
   "toc_window_display": false
  }
 },
 "nbformat": 4,
 "nbformat_minor": 4
}
