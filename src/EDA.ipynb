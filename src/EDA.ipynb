{
 "cells": [
  {
   "cell_type": "markdown",
   "metadata": {
    "toc": true
   },
   "source": [
    "<h1>Table of Contents<span class=\"tocSkip\"></span></h1>\n",
    "<div class=\"toc\"><ul class=\"toc-item\"><li><span><a href=\"#Import,-setups\" data-toc-modified-id=\"Import,-setups-1\"><span class=\"toc-item-num\">1&nbsp;&nbsp;</span>Import, setups</a></span></li><li><span><a href=\"#Read-data\" data-toc-modified-id=\"Read-data-2\"><span class=\"toc-item-num\">2&nbsp;&nbsp;</span>Read data</a></span></li><li><span><a href=\"#EDA\" data-toc-modified-id=\"EDA-3\"><span class=\"toc-item-num\">3&nbsp;&nbsp;</span>EDA</a></span><ul class=\"toc-item\"><li><span><a href=\"#Impact-of-the-day-of-the-week\" data-toc-modified-id=\"Impact-of-the-day-of-the-week-3.1\"><span class=\"toc-item-num\">3.1&nbsp;&nbsp;</span>Impact of the day of the week</a></span></li><li><span><a href=\"#Impact-of-the-day-of-the-month\" data-toc-modified-id=\"Impact-of-the-day-of-the-month-3.2\"><span class=\"toc-item-num\">3.2&nbsp;&nbsp;</span>Impact of the day of the month</a></span></li><li><span><a href=\"#Impact-of-the-month\" data-toc-modified-id=\"Impact-of-the-month-3.3\"><span class=\"toc-item-num\">3.3&nbsp;&nbsp;</span>Impact of the month</a></span></li><li><span><a href=\"#Items-categories\" data-toc-modified-id=\"Items-categories-3.4\"><span class=\"toc-item-num\">3.4&nbsp;&nbsp;</span>Items categories</a></span></li><li><span><a href=\"#For-how-long-itmes-have-been-sold\" data-toc-modified-id=\"For-how-long-itmes-have-been-sold-3.5\"><span class=\"toc-item-num\">3.5&nbsp;&nbsp;</span>For how long itmes have been sold</a></span></li><li><span><a href=\"#Shops-analysis\" data-toc-modified-id=\"Shops-analysis-3.6\"><span class=\"toc-item-num\">3.6&nbsp;&nbsp;</span>Shops analysis</a></span></li><li><span><a href=\"#Did-shops-differ-in-offer?\" data-toc-modified-id=\"Did-shops-differ-in-offer?-3.7\"><span class=\"toc-item-num\">3.7&nbsp;&nbsp;</span>Did shops differ in offer?</a></span></li><li><span><a href=\"#Shops-location\" data-toc-modified-id=\"Shops-location-3.8\"><span class=\"toc-item-num\">3.8&nbsp;&nbsp;</span>Shops location</a></span></li></ul></li><li><span><a href=\"#Decomposition-of-time-series\" data-toc-modified-id=\"Decomposition-of-time-series-4\"><span class=\"toc-item-num\">4&nbsp;&nbsp;</span>Decomposition of time series</a></span></li><li><span><a href=\"#Test-items-overview\" data-toc-modified-id=\"Test-items-overview-5\"><span class=\"toc-item-num\">5&nbsp;&nbsp;</span>Test items overview</a></span></li><li><span><a href=\"#ARIMA\" data-toc-modified-id=\"ARIMA-6\"><span class=\"toc-item-num\">6&nbsp;&nbsp;</span>ARIMA</a></span></li></ul></div>"
   ]
  },
  {
   "cell_type": "markdown",
   "metadata": {},
   "source": [
    "**Business Understanding**\n",
    "\n",
    "In this notebook we will address issue stated in this [kaggle task](https://www.kaggle.com/c/competitive-data-science-predict-future-sales).\n",
    "\n",
    "The main aim is to predict the amount of items sold by certain company in many shops in Russia, based on previous sales data. Provided database is quite challenging, because it consists of real data which are not ballanced / preprocessed. Many items that are being sold are new and we mmight not have enough data to model it.\n",
    "\n",
    "Business importance of this task seem to be trivial. The better we can assess the amount of items that will be sold, the better we can plan their distribution and order appropriate amount from the manufacturer. This will imply smaller costs and thus higher profit.\n",
    "\n",
    "\n",
    "**Data understanding**\n",
    "\n",
    "Further part of the notebook is devoted to data understanding, visualization and exploration.\n"
   ]
  },
  {
   "cell_type": "markdown",
   "metadata": {},
   "source": [
    "# Import, setups"
   ]
  },
  {
   "cell_type": "code",
   "execution_count": null,
   "metadata": {
    "ExecuteTime": {
     "end_time": "2021-01-11T19:54:34.816833Z",
     "start_time": "2021-01-11T19:54:28.374148Z"
    }
   },
   "outputs": [],
   "source": [
    "# data\n",
    "import pandas as pd\n",
    "import numpy as np\n",
    "\n",
    "# visualization\n",
    "import plotly\n",
    "import plotly.express as px\n",
    "import plotly.graph_objects as go\n",
    "import seaborn as sns\n",
    "import matplotlib.pyplot as plt\n",
    "\n",
    "# QoL\n",
    "from tqdm.notebook import tqdm\n",
    "from collections import Counter\n",
    "from datetime import datetime\n",
    "\n",
    "# ML\n",
    "from statsmodels.graphics.gofplots import qqplot\n",
    "from statsmodels.stats.multitest import multipletests\n",
    "from statsmodels.graphics.tsaplots import plot_acf\n",
    "from statsmodels.tsa.arima.model import ARIMA\n",
    "import scipy\n",
    "\n",
    "# geo\n",
    "from geopy.geocoders import Nominatim"
   ]
  },
  {
   "cell_type": "markdown",
   "metadata": {},
   "source": [
    "# Read data"
   ]
  },
  {
   "cell_type": "code",
   "execution_count": null,
   "metadata": {
    "ExecuteTime": {
     "end_time": "2021-01-11T19:54:34.824689Z",
     "start_time": "2021-01-11T19:54:34.820662Z"
    }
   },
   "outputs": [],
   "source": [
    "DATA_PREFIX = '../data/'"
   ]
  },
  {
   "cell_type": "code",
   "execution_count": null,
   "metadata": {
    "ExecuteTime": {
     "end_time": "2021-01-11T19:54:36.756937Z",
     "start_time": "2021-01-11T19:54:34.833321Z"
    }
   },
   "outputs": [],
   "source": [
    "# load the dataset\n",
    "item_categories = pd.read_csv(DATA_PREFIX + 'item_categories.csv')\n",
    "items = pd.read_csv(DATA_PREFIX + 'items.csv')\n",
    "sales_train = pd.read_csv(DATA_PREFIX + 'sales_train.csv')\n",
    "shops = pd.read_csv(DATA_PREFIX + 'shops.csv')\n",
    "test = pd.read_csv(DATA_PREFIX + 'test.csv')"
   ]
  },
  {
   "cell_type": "code",
   "execution_count": null,
   "metadata": {
    "ExecuteTime": {
     "end_time": "2021-01-11T19:54:36.784549Z",
     "start_time": "2021-01-11T19:54:36.761965Z"
    }
   },
   "outputs": [],
   "source": [
    "print(len(shops))\n",
    "shops.head()"
   ]
  },
  {
   "cell_type": "code",
   "execution_count": null,
   "metadata": {
    "ExecuteTime": {
     "end_time": "2021-01-11T19:54:36.825925Z",
     "start_time": "2021-01-11T19:54:36.787942Z"
    }
   },
   "outputs": [],
   "source": [
    "print(len(item_categories))\n",
    "item_categories.head()"
   ]
  },
  {
   "cell_type": "code",
   "execution_count": null,
   "metadata": {
    "ExecuteTime": {
     "end_time": "2021-01-11T19:54:36.845851Z",
     "start_time": "2021-01-11T19:54:36.831337Z"
    }
   },
   "outputs": [],
   "source": [
    "print(len(items))\n",
    "items.head()"
   ]
  },
  {
   "cell_type": "code",
   "execution_count": null,
   "metadata": {
    "ExecuteTime": {
     "end_time": "2021-01-11T19:54:36.880096Z",
     "start_time": "2021-01-11T19:54:36.848978Z"
    }
   },
   "outputs": [],
   "source": [
    "# Merge category of item to each of the items\n",
    "items = items.merge(item_categories, on='item_category_id')\n",
    "items.head()"
   ]
  },
  {
   "cell_type": "code",
   "execution_count": null,
   "metadata": {
    "ExecuteTime": {
     "end_time": "2021-01-11T19:54:36.914679Z",
     "start_time": "2021-01-11T19:54:36.886710Z"
    }
   },
   "outputs": [],
   "source": [
    "print(len(sales_train))\n",
    "sales_train.head()"
   ]
  },
  {
   "cell_type": "code",
   "execution_count": null,
   "metadata": {
    "ExecuteTime": {
     "end_time": "2021-01-11T19:54:37.937019Z",
     "start_time": "2021-01-11T19:54:36.924907Z"
    }
   },
   "outputs": [],
   "source": [
    "sales_train = sales_train.merge(items.loc[:, ['item_id', 'item_category_id']], on='item_id')"
   ]
  },
  {
   "cell_type": "code",
   "execution_count": null,
   "metadata": {
    "ExecuteTime": {
     "end_time": "2021-01-11T19:54:38.894757Z",
     "start_time": "2021-01-11T19:54:37.940637Z"
    }
   },
   "outputs": [],
   "source": [
    "sales_train.describe()"
   ]
  },
  {
   "cell_type": "code",
   "execution_count": null,
   "metadata": {
    "ExecuteTime": {
     "end_time": "2021-01-11T19:54:38.911984Z",
     "start_time": "2021-01-11T19:54:38.898742Z"
    }
   },
   "outputs": [],
   "source": [
    "sales_train.info()"
   ]
  },
  {
   "cell_type": "code",
   "execution_count": null,
   "metadata": {
    "ExecuteTime": {
     "end_time": "2021-01-11T19:54:39.534735Z",
     "start_time": "2021-01-11T19:54:38.916249Z"
    }
   },
   "outputs": [],
   "source": [
    "# cast to datetime object\n",
    "sales_train.loc[:, 'date'] = pd.to_datetime(sales_train.date)"
   ]
  },
  {
   "cell_type": "code",
   "execution_count": null,
   "metadata": {
    "ExecuteTime": {
     "end_time": "2021-01-11T19:54:42.301501Z",
     "start_time": "2021-01-11T19:54:39.537796Z"
    }
   },
   "outputs": [],
   "source": [
    "sales_train = sales_train.sort_values(\n",
    "    ['date', 'shop_id', 'item_category_id', 'item_id']\n",
    ").reset_index(drop=True)"
   ]
  },
  {
   "cell_type": "code",
   "execution_count": null,
   "metadata": {
    "ExecuteTime": {
     "end_time": "2021-01-11T19:54:44.683022Z",
     "start_time": "2021-01-11T19:54:42.304818Z"
    },
    "scrolled": true
   },
   "outputs": [],
   "source": [
    "# extract date info\n",
    "sales_train.loc[:, 'day'] = sales_train.date.dt.day\n",
    "sales_train.loc[:, 'month'] = sales_train.date.dt.month\n",
    "sales_train.loc[:, 'year'] = sales_train.date.dt.year\n",
    "sales_train.loc[:, 'dayofweek'] = sales_train.date.dt.dayofweek"
   ]
  },
  {
   "cell_type": "code",
   "execution_count": null,
   "metadata": {
    "ExecuteTime": {
     "end_time": "2021-01-11T19:54:45.313476Z",
     "start_time": "2021-01-11T19:54:44.685744Z"
    }
   },
   "outputs": [],
   "source": [
    "# calculate income\n",
    "sales_train.loc[:, 'income'] = sales_train.item_price * sales_train.item_cnt_day"
   ]
  },
  {
   "cell_type": "code",
   "execution_count": null,
   "metadata": {
    "ExecuteTime": {
     "end_time": "2021-01-11T19:55:16.101725Z",
     "start_time": "2021-01-11T19:55:16.079149Z"
    }
   },
   "outputs": [],
   "source": [
    "sales_train.head()"
   ]
  },
  {
   "cell_type": "markdown",
   "metadata": {},
   "source": [
    "The above code enriched a bit `sales_train` data and merged additional information from other tables. \n",
    "\n",
    "<!-- Currently in this table we have entire information about every item that was sold, its category,  -->\n",
    "\n",
    "For every item we have following information:\n",
    "- date at which it was sold\n",
    "- number of items sold\n",
    "- shop at which it was sold\n",
    "- price of the item\n",
    "- category of the item\n",
    "\n"
   ]
  },
  {
   "cell_type": "markdown",
   "metadata": {},
   "source": [
    "# EDA"
   ]
  },
  {
   "cell_type": "code",
   "execution_count": null,
   "metadata": {
    "ExecuteTime": {
     "end_time": "2021-01-11T20:00:08.409585Z",
     "start_time": "2021-01-11T20:00:04.616350Z"
    }
   },
   "outputs": [],
   "source": [
    "px.line(\n",
    "    sales_train.groupby('date_block_num')['item_cnt_day'].sum().reset_index(), \n",
    "    x='date_block_num', y='item_cnt_day')"
   ]
  },
  {
   "cell_type": "markdown",
   "metadata": {},
   "source": [
    "Here we can see that in general there is an obvious decreasing trend in the number of items being sold through time. However, one may notice that there are two high picks which suggest that there is a strong seasonality of sales in our data.\n",
    "\n",
    "It is worth to note that selling less items does not imply that company makes less money - it can sell more expensive items. Lets check if that is the case."
   ]
  },
  {
   "cell_type": "code",
   "execution_count": null,
   "metadata": {
    "ExecuteTime": {
     "end_time": "2021-01-11T20:04:15.984167Z",
     "start_time": "2021-01-11T20:04:15.823236Z"
    }
   },
   "outputs": [],
   "source": [
    "px.line(\n",
    "    sales_train.groupby('date_block_num')['income'].sum().reset_index(), \n",
    "    x='date_block_num', y='income')"
   ]
  },
  {
   "cell_type": "markdown",
   "metadata": {},
   "source": [
    "Indeed, there is no such obvious decreasing trend visible on the above figure. We can then conclude that company now is selling more expensive items in higher amount. Maybe that is because of the changing the company sales politics or the market requirements."
   ]
  },
  {
   "cell_type": "code",
   "execution_count": null,
   "metadata": {
    "ExecuteTime": {
     "end_time": "2021-01-11T20:08:49.357655Z",
     "start_time": "2021-01-11T20:08:48.725360Z"
    }
   },
   "outputs": [],
   "source": [
    "months = ['', 'January', 'February', 'March', 'April', 'May', 'June', 'July', \n",
    "          'August', 'September', 'October', 'November', 'December']\n",
    "\n",
    "for metric in ['item_cnt_day', 'income']:\n",
    "    day_sales = sales_train.groupby(['year', 'month'])[metric].sum().reset_index()\n",
    "    day_sales.loc[:, 'month'] = day_sales.month.apply(lambda x: months[x])\n",
    "    day_sales = day_sales.reset_index()\n",
    "    fig = px.scatter_polar(\n",
    "        day_sales, r=metric, theta='month', color='index', \n",
    "        color_continuous_scale='viridis')\n",
    "    fig.update_layout(\n",
    "        title_text=metric,\n",
    "        coloraxis_colorbar=dict(\n",
    "            title=\"months<br>since<br>beginning\",\n",
    "        ),\n",
    "    )\n",
    "    fig.show()"
   ]
  },
  {
   "cell_type": "markdown",
   "metadata": {},
   "source": [
    "## Impact of the day of the week"
   ]
  },
  {
   "cell_type": "markdown",
   "metadata": {},
   "source": [
    "Now we will further investigate the patterns in the data to get better insight. "
   ]
  },
  {
   "cell_type": "code",
   "execution_count": null,
   "metadata": {
    "ExecuteTime": {
     "end_time": "2021-01-11T20:21:32.664194Z",
     "start_time": "2021-01-11T20:21:32.335629Z"
    }
   },
   "outputs": [],
   "source": [
    "per_day_sales = sales_train.groupby(['dayofweek', 'date'])[['item_cnt_day', 'income']].sum().reset_index()"
   ]
  },
  {
   "cell_type": "code",
   "execution_count": null,
   "metadata": {
    "ExecuteTime": {
     "end_time": "2021-01-11T20:22:14.294484Z",
     "start_time": "2021-01-11T20:22:14.283543Z"
    }
   },
   "outputs": [],
   "source": [
    "days = ['Monday', 'Tuesday', 'Wednesday', 'Thursday', 'Friday', 'Saturday', 'Sunday']\n",
    "per_day_sales.loc[:, 'dayofweek_name'] = per_day_sales.dayofweek.map(lambda x: days[x])"
   ]
  },
  {
   "cell_type": "code",
   "execution_count": null,
   "metadata": {
    "ExecuteTime": {
     "end_time": "2021-01-11T20:22:16.184249Z",
     "start_time": "2021-01-11T20:22:16.057818Z"
    },
    "scrolled": false
   },
   "outputs": [],
   "source": [
    "px.box(\n",
    "    per_day_sales, \n",
    "    x='dayofweek_name', y='income', points='outliers')\\\n",
    ".update_layout(\n",
    "    yaxis_range=[0, per_day_sales.income.quantile(0.99)]\n",
    ")"
   ]
  },
  {
   "cell_type": "markdown",
   "metadata": {},
   "source": [
    "Here we can observe that income at Saturday is much higer than in e.g. Tuesday (median for Saturday is 6.6M $ and at Tuesday it is just 2.3M $). But is it significantly higher?"
   ]
  },
  {
   "cell_type": "code",
   "execution_count": null,
   "metadata": {
    "ExecuteTime": {
     "end_time": "2021-01-11T20:22:20.289932Z",
     "start_time": "2021-01-11T20:22:20.186832Z"
    },
    "scrolled": false
   },
   "outputs": [],
   "source": [
    "px.box(\n",
    "    per_day_sales, \n",
    "    x='dayofweek', y='item_cnt_day', points='outliers')\\\n",
    ".update_layout(\n",
    "    yaxis_range=[0, per_day_sales.item_cnt_day.quantile(0.99)]\n",
    ")"
   ]
  },
  {
   "cell_type": "markdown",
   "metadata": {},
   "source": [
    "Similar thing can be noticed in terms of number of itmes sold."
   ]
  },
  {
   "cell_type": "code",
   "execution_count": null,
   "metadata": {
    "ExecuteTime": {
     "end_time": "2021-01-11T20:22:22.247060Z",
     "start_time": "2021-01-11T20:22:22.195540Z"
    },
    "scrolled": true
   },
   "outputs": [],
   "source": [
    "results = []\n",
    "for day1 in range(7):\n",
    "    for day2 in range(day1 + 1, 7):\n",
    "        _, p = scipy.stats.ranksums(\n",
    "            x=per_day_sales.loc[per_day_sales.dayofweek==day1, 'item_cnt_day'],\n",
    "            y=per_day_sales.loc[per_day_sales.dayofweek==day2, 'item_cnt_day'],\n",
    "        )\n",
    "        results.append([(day1, day2), p])"
   ]
  },
  {
   "cell_type": "code",
   "execution_count": null,
   "metadata": {
    "ExecuteTime": {
     "end_time": "2021-01-11T20:22:23.519686Z",
     "start_time": "2021-01-11T20:22:23.458394Z"
    }
   },
   "outputs": [],
   "source": [
    "# Benjamini/Hochberg correction for p values when performing many tests\n",
    "_, p, _, _ = multipletests([i[1] for i in results], alpha=0.05, method='fdr_bh', returnsorted=False)\n",
    "for i in range(len(results)):\n",
    "    results[i][1] = p[i]\n",
    "    \n",
    "for days, p in results:\n",
    "    if p < 0.05:\n",
    "        print(days)"
   ]
  },
  {
   "cell_type": "markdown",
   "metadata": {},
   "source": [
    "From this test and from above histogram we see that from Monday to Thursay sales are the lowest (and also we can't say which day makes more income - those differences are statistically not significant). Every day from Friday to Sunday produces significantly more income that other working days. In particular Saturday outperforms every other day including Friday and Sunday. There is no siginificant difference between Friday and Sunday."
   ]
  },
  {
   "cell_type": "markdown",
   "metadata": {},
   "source": [
    "## Impact of the day of the month"
   ]
  },
  {
   "cell_type": "markdown",
   "metadata": {},
   "source": [
    "Impact of the day of the week seem to be obvious - people tend to do shopping when they have more free time, which is during the weekend. So maybe there is a similar relationship with number of the day in the month? Maybe people tend to spend money when they got their salary on their account. "
   ]
  },
  {
   "cell_type": "code",
   "execution_count": null,
   "metadata": {
    "ExecuteTime": {
     "end_time": "2021-01-11T20:27:49.796969Z",
     "start_time": "2021-01-11T20:27:49.403258Z"
    }
   },
   "outputs": [],
   "source": [
    "per_dayofmonth_sales = sales_train.groupby(['day', 'date'])[['item_cnt_day', 'income']].sum().reset_index()"
   ]
  },
  {
   "cell_type": "code",
   "execution_count": null,
   "metadata": {
    "ExecuteTime": {
     "end_time": "2021-01-11T20:42:25.497047Z",
     "start_time": "2021-01-11T20:42:25.333559Z"
    }
   },
   "outputs": [],
   "source": [
    "px.box(\n",
    "    per_dayofmonth_sales, \n",
    "    x='day', y='item_cnt_day', points='outliers')\\\n",
    ".update_layout(\n",
    "    yaxis_range=[0, per_dayofmonth_sales.item_cnt_day.quantile(0.99)]\n",
    ")"
   ]
  },
  {
   "cell_type": "code",
   "execution_count": null,
   "metadata": {
    "ExecuteTime": {
     "end_time": "2021-01-11T20:27:54.149134Z",
     "start_time": "2021-01-11T20:27:54.060867Z"
    }
   },
   "outputs": [],
   "source": [
    "px.box(\n",
    "    per_dayofmonth_sales, \n",
    "    x='day', y='income', points='outliers')\\\n",
    ".update_layout(\n",
    "    yaxis_range=[0, per_dayofmonth_sales.income.quantile(0.99)]\n",
    ")"
   ]
  },
  {
   "cell_type": "markdown",
   "metadata": {},
   "source": [
    "It seems that the heighest income can be observed mostly during the first day of the month and in the region of 10th to 12th. Probably that is because in those days most of the people get paid. "
   ]
  },
  {
   "cell_type": "markdown",
   "metadata": {},
   "source": [
    "## Impact of the month"
   ]
  },
  {
   "cell_type": "code",
   "execution_count": null,
   "metadata": {
    "ExecuteTime": {
     "end_time": "2021-01-11T20:42:58.642910Z",
     "start_time": "2021-01-11T20:42:58.112090Z"
    }
   },
   "outputs": [],
   "source": [
    "per_month_sales = sales_train.groupby(['month', 'date'])[['item_cnt_day', 'income']].sum().reset_index()\n",
    "\n",
    "px.box(\n",
    "    per_month_sales, \n",
    "    x='month', y='income', points='outliers')\\\n",
    ".update_layout(\n",
    "    yaxis_range=[0, per_month_sales.income.quantile(0.99)]\n",
    ")"
   ]
  },
  {
   "cell_type": "code",
   "execution_count": null,
   "metadata": {
    "ExecuteTime": {
     "end_time": "2021-01-11T20:42:58.744950Z",
     "start_time": "2021-01-11T20:42:58.647268Z"
    }
   },
   "outputs": [],
   "source": [
    "px.box(\n",
    "    per_month_sales, \n",
    "    x='month', y='item_cnt_day', points='outliers')\\\n",
    ".update_layout(\n",
    "    yaxis_range=[0, per_month_sales.item_cnt_day.quantile(0.99)]\n",
    ")"
   ]
  },
  {
   "cell_type": "markdown",
   "metadata": {},
   "source": [
    "The highest income is at December, which is qute obvious because of Christmas and New Year at Russia."
   ]
  },
  {
   "cell_type": "markdown",
   "metadata": {},
   "source": [
    "## Items categories"
   ]
  },
  {
   "cell_type": "code",
   "execution_count": null,
   "metadata": {
    "ExecuteTime": {
     "end_time": "2021-01-11T20:44:05.038970Z",
     "start_time": "2021-01-11T20:44:05.032471Z"
    }
   },
   "outputs": [],
   "source": [
    "print(f'Number of unique items {len(items)}\\nNumber of categories {len(items.item_category_id.unique())}')"
   ]
  },
  {
   "cell_type": "code",
   "execution_count": null,
   "metadata": {
    "ExecuteTime": {
     "end_time": "2021-01-11T20:44:06.882198Z",
     "start_time": "2021-01-11T20:44:06.674208Z"
    }
   },
   "outputs": [],
   "source": [
    "px.histogram(items.groupby('item_category_id')['item_id'].count(), nbins=1000)\\\n",
    ".update_layout(xaxis_title='group size', yaxis_title='number of groups')"
   ]
  },
  {
   "cell_type": "markdown",
   "metadata": {},
   "source": [
    "Item categories are highly imbalanced. There is only few categories that have several thousads of items. Most of categories have dozen of items."
   ]
  },
  {
   "cell_type": "code",
   "execution_count": null,
   "metadata": {
    "ExecuteTime": {
     "end_time": "2021-01-11T20:45:36.618671Z",
     "start_time": "2021-01-11T20:45:35.784301Z"
    }
   },
   "outputs": [],
   "source": [
    "tmp = sales_train.groupby(['item_category_id', 'item_id'])['item_price'].mean().reset_index()\n",
    "order = tmp.groupby('item_category_id').mean().reset_index().sort_values('item_price').item_category_id.tolist()\n",
    "px.box(\n",
    "    tmp,\n",
    "    x='item_category_id', y='item_price', log_y=True, category_orders={'item_category_id': order}\n",
    ")\\\n",
    ".update_layout(\n",
    "    xaxis_type='category',\n",
    "    width=1500\n",
    ")"
   ]
  },
  {
   "cell_type": "markdown",
   "metadata": {},
   "source": [
    "Categories differs in price to each other. "
   ]
  },
  {
   "cell_type": "code",
   "execution_count": null,
   "metadata": {
    "ExecuteTime": {
     "end_time": "2021-01-11T20:45:50.807036Z",
     "start_time": "2021-01-11T20:45:50.798089Z"
    }
   },
   "outputs": [],
   "source": [
    "item_categories.loc[12] \n",
    "\n",
    "# indeed, the most expensive category is PS4 :)"
   ]
  },
  {
   "cell_type": "code",
   "execution_count": null,
   "metadata": {
    "ExecuteTime": {
     "end_time": "2021-01-11T20:45:51.239300Z",
     "start_time": "2021-01-11T20:45:51.225039Z"
    }
   },
   "outputs": [],
   "source": [
    "item_categories.loc[71]\n",
    "\n",
    "# Gifts - Bags, Albums, Mouse Pads are the cheapest"
   ]
  },
  {
   "cell_type": "markdown",
   "metadata": {},
   "source": [
    "## For how long itmes have been sold "
   ]
  },
  {
   "cell_type": "code",
   "execution_count": null,
   "metadata": {
    "ExecuteTime": {
     "end_time": "2021-01-11T20:46:06.249821Z",
     "start_time": "2021-01-11T20:46:06.230654Z"
    }
   },
   "outputs": [],
   "source": [
    "sales_train.head()"
   ]
  },
  {
   "cell_type": "code",
   "execution_count": null,
   "metadata": {
    "ExecuteTime": {
     "end_time": "2021-01-11T20:46:09.843204Z",
     "start_time": "2021-01-11T20:46:08.468033Z"
    }
   },
   "outputs": [],
   "source": [
    "tmp = pd.pivot_table(sales_train, index='item_id', values='date', aggfunc=['min', 'max'])\n",
    "\n",
    "tmp.loc[:, 'min_date'] = tmp.loc[:, 'min'].date\n",
    "tmp.loc[:, 'max_date'] = tmp.loc[:, 'max'].date\n",
    "tmp = tmp.drop(['min', 'max'], axis=1)\n",
    "\n",
    "tmp.loc[:, 'item_last'] = (tmp.loc[:, 'max_date'] - tmp.loc[:, 'min_date']).dt.days\n",
    "\n",
    "tmp = tmp.sort_values(['min_date', 'item_last'], axis=0)"
   ]
  },
  {
   "cell_type": "code",
   "execution_count": null,
   "metadata": {
    "ExecuteTime": {
     "end_time": "2021-01-11T20:46:12.077586Z",
     "start_time": "2021-01-11T20:46:11.599804Z"
    }
   },
   "outputs": [],
   "source": [
    "px.histogram(tmp.item_last)\\\n",
    ".update_layout(\n",
    "    title='Histogram of time of products being sold',\n",
    "    xaxis_title='Number of days the product have been sold',\n",
    "    yaxis_title='# of products'\n",
    ")"
   ]
  },
  {
   "cell_type": "markdown",
   "metadata": {},
   "source": [
    "As we can see most of items are sold cyclicaly - they are introducted to the shops at certain day and withdrawn after e.g. a year and replaced by newer model.\n",
    "\n",
    "Note that many items were withdrawn almost at the beginning. Or maybe to be more precise - were not sold later."
   ]
  },
  {
   "cell_type": "code",
   "execution_count": null,
   "metadata": {
    "ExecuteTime": {
     "end_time": "2021-01-11T20:51:19.561194Z",
     "start_time": "2021-01-11T20:50:33.067686Z"
    }
   },
   "outputs": [],
   "source": [
    "# difficult to render!\n",
    "fig = go.Figure()\n",
    "for i, (item, data) in enumerate(tmp.iterrows()):\n",
    "    data = data.values[:2]\n",
    "    fig.add_trace(\n",
    "        go.Scattergl(\n",
    "            x=data, y=[i, i], \n",
    "            mode='lines', \n",
    "            line=dict(color='red'),\n",
    "            showlegend=False,\n",
    "        )\n",
    "   )\n",
    "fig.show()\n",
    "\n",
    "del fig"
   ]
  },
  {
   "cell_type": "markdown",
   "metadata": {},
   "source": [
    "Above figure presents the first and the last noted transaction of each of the items (on x axis we have time on y axis we have subsequent items). The higher the slope of the upper left edge of the chart the more items have been added to the assortment. \n",
    "\n",
    "Note that items are being withdrawn most often at the beginning of the December and introducted at the beginning of the New Year. "
   ]
  },
  {
   "cell_type": "code",
   "execution_count": null,
   "metadata": {
    "ExecuteTime": {
     "end_time": "2021-01-12T06:08:29.191120Z",
     "start_time": "2021-01-12T06:08:24.078255Z"
    },
    "scrolled": false
   },
   "outputs": [],
   "source": [
    "px.histogram(x=tmp.min_date).update_layout(title_text='intro date').show()\n",
    "px.histogram(x=tmp.max_date).update_layout(title_text='withdraw date').show()\n",
    "px.histogram(x=tmp.min_date.dt.month).update_layout(title_text='intro month').show()\n",
    "px.histogram(x=tmp.max_date.dt.month).update_layout(title_text='withdraw month').show()\n",
    "px.histogram(x=tmp.min_date.dt.day).update_layout(title_text='intro day').show()\n",
    "px.histogram(x=tmp.max_date.dt.day).update_layout(title_text='withdraw day').show()"
   ]
  },
  {
   "cell_type": "markdown",
   "metadata": {},
   "source": [
    "As seen from those plots - most of items are introducted within two weeks after New Year. They are withdrawn the most offen within first two weeks of December."
   ]
  },
  {
   "cell_type": "markdown",
   "metadata": {},
   "source": [
    "## Shops analysis"
   ]
  },
  {
   "cell_type": "code",
   "execution_count": null,
   "metadata": {
    "ExecuteTime": {
     "end_time": "2021-01-12T06:09:17.217370Z",
     "start_time": "2021-01-12T06:09:17.139705Z"
    }
   },
   "outputs": [],
   "source": [
    "len(sales_train.shop_id.unique())"
   ]
  },
  {
   "cell_type": "code",
   "execution_count": null,
   "metadata": {
    "ExecuteTime": {
     "end_time": "2021-01-12T06:09:18.090023Z",
     "start_time": "2021-01-12T06:09:17.676490Z"
    }
   },
   "outputs": [],
   "source": [
    "tmp = pd.pivot_table(sales_train, index='shop_id', values='date', aggfunc=['min', 'max'])\n",
    "tmp.loc[:, 'min_date'] = tmp.loc[:, 'min'].date\n",
    "tmp.loc[:, 'max_date'] = tmp.loc[:, 'max'].date\n",
    "tmp = tmp.drop(['min', 'max'], axis=1)\n",
    "tmp.loc[:, 'shop_last'] = (tmp.loc[:, 'max_date'] - tmp.loc[:, 'min_date']).dt.days\n",
    "tmp = tmp.sort_values(['min_date', 'shop_last'], axis=0)"
   ]
  },
  {
   "cell_type": "code",
   "execution_count": null,
   "metadata": {
    "ExecuteTime": {
     "end_time": "2021-01-12T06:09:20.611818Z",
     "start_time": "2021-01-12T06:09:20.410809Z"
    }
   },
   "outputs": [],
   "source": [
    "fig = go.Figure()\n",
    "for i, (item, data) in enumerate(tmp.iterrows()):\n",
    "    data = data.values[:2]\n",
    "    fig.add_trace(\n",
    "        go.Scattergl(\n",
    "            x=data, y=[i, i], \n",
    "            mode='lines', \n",
    "            line=dict(color='red'),\n",
    "            showlegend=False,\n",
    "        )\n",
    "   )\n",
    "fig.show()\n",
    "del fig"
   ]
  },
  {
   "cell_type": "markdown",
   "metadata": {},
   "source": [
    "On average ~50 shops were constantly active. If shop happend to be closed/open it was usually near New Year."
   ]
  },
  {
   "cell_type": "markdown",
   "metadata": {},
   "source": [
    "## Did shops differ in offer?"
   ]
  },
  {
   "cell_type": "code",
   "execution_count": null,
   "metadata": {
    "ExecuteTime": {
     "end_time": "2021-01-12T06:09:32.989336Z",
     "start_time": "2021-01-12T06:09:29.966345Z"
    }
   },
   "outputs": [],
   "source": [
    "shop_specification = pd.pivot_table(\n",
    "    sales_train, index='shop_id', columns='item_category_id', values='income', aggfunc='sum'\n",
    ")\n",
    "sns.clustermap(shop_specification.fillna(False).astype(bool), cmap='gray', vmin=-0.5, vmax=1.2)"
   ]
  },
  {
   "cell_type": "code",
   "execution_count": null,
   "metadata": {
    "ExecuteTime": {
     "end_time": "2021-01-12T06:09:35.442850Z",
     "start_time": "2021-01-12T06:09:32.998347Z"
    }
   },
   "outputs": [],
   "source": [
    "sns.clustermap(np.nan_to_num(shop_specification, 0))"
   ]
  },
  {
   "cell_type": "code",
   "execution_count": null,
   "metadata": {
    "ExecuteTime": {
     "end_time": "2021-01-12T06:09:37.916779Z",
     "start_time": "2021-01-12T06:09:35.456099Z"
    }
   },
   "outputs": [],
   "source": [
    "sns.clustermap(np.log10(np.maximum(np.nan_to_num(shop_specification, 0), 1)))"
   ]
  },
  {
   "cell_type": "markdown",
   "metadata": {},
   "source": [
    "There are 3 clusters of shops. One comprises most of the shops, they have big or huge earnings and sell similar kind of products. Within it we can distinguish approx. 6 shops that have enormous income.\n",
    "\n",
    "The second cluster have smaller earnings and in general shops within in have smaller diversity of products.\n",
    "\n",
    "Thist cluster is created by 2 shops which have very limited assortment. One of them sells products of completely different type than the others."
   ]
  },
  {
   "cell_type": "markdown",
   "metadata": {},
   "source": [
    "## Shops location"
   ]
  },
  {
   "cell_type": "markdown",
   "metadata": {},
   "source": [
    "Lets see where analysed shops are located. And how their location influence the income."
   ]
  },
  {
   "cell_type": "code",
   "execution_count": null,
   "metadata": {
    "ExecuteTime": {
     "end_time": "2021-01-12T06:11:48.475945Z",
     "start_time": "2021-01-12T06:11:48.452218Z"
    }
   },
   "outputs": [],
   "source": [
    "geolocator = Nominatim(user_agent=\"russia cities\")"
   ]
  },
  {
   "cell_type": "code",
   "execution_count": null,
   "metadata": {
    "ExecuteTime": {
     "end_time": "2021-01-12T06:11:49.046801Z",
     "start_time": "2021-01-12T06:11:49.034739Z"
    }
   },
   "outputs": [],
   "source": [
    "shops.loc[:, 'city'] = shops.shop_name.apply(lambda x: x.split()[0])\n",
    "shops.loc[:, 'category'] = shops.shop_name.apply(lambda x: x.split()[1])"
   ]
  },
  {
   "cell_type": "code",
   "execution_count": null,
   "metadata": {
    "ExecuteTime": {
     "end_time": "2021-01-12T06:11:49.656538Z",
     "start_time": "2021-01-12T06:11:49.640360Z"
    }
   },
   "outputs": [],
   "source": [
    "categories_counts = shops.category.value_counts()\n",
    "categories_counts"
   ]
  },
  {
   "cell_type": "code",
   "execution_count": null,
   "metadata": {
    "ExecuteTime": {
     "end_time": "2021-01-12T06:11:53.109169Z",
     "start_time": "2021-01-12T06:11:53.102932Z"
    }
   },
   "outputs": [],
   "source": [
    "idx = categories_counts[categories_counts.lt(4)].index\n",
    "shops.loc[shops.category.isin(idx), 'category'] = 'other'"
   ]
  },
  {
   "cell_type": "code",
   "execution_count": null,
   "metadata": {
    "ExecuteTime": {
     "end_time": "2021-01-12T06:11:53.831153Z",
     "start_time": "2021-01-12T06:11:53.826522Z"
    }
   },
   "outputs": [],
   "source": [
    "shops.loc[shops.city == 'РостовНаДону', 'city'] = 'Ростов-На-Дону'"
   ]
  },
  {
   "cell_type": "code",
   "execution_count": null,
   "metadata": {
    "ExecuteTime": {
     "end_time": "2021-01-12T06:12:10.851645Z",
     "start_time": "2021-01-12T06:11:54.992841Z"
    }
   },
   "outputs": [],
   "source": [
    "city_pos = dict()\n",
    "for city in tqdm(shops.city.unique()):\n",
    "    try:\n",
    "        location = geolocator.geocode(city)\n",
    "        city_pos[city] = (location.latitude, location.longitude)\n",
    "    except:\n",
    "        continue"
   ]
  },
  {
   "cell_type": "code",
   "execution_count": null,
   "metadata": {
    "ExecuteTime": {
     "end_time": "2021-01-12T06:12:10.885606Z",
     "start_time": "2021-01-12T06:12:10.857321Z"
    }
   },
   "outputs": [],
   "source": [
    "shops.loc[:, 'latlon'] = shops.city.map(city_pos)\n",
    "shops.loc[:, 'lat'] = shops.latlon.apply(lambda x: x[0])\n",
    "shops.loc[:, 'lon'] = shops.latlon.apply(lambda x: x[1])\n",
    "shops = shops.drop(columns='latlon')\n",
    "shops.head()"
   ]
  },
  {
   "cell_type": "markdown",
   "metadata": {},
   "source": [
    "Lets ask question if the product price depend on the shop and its location."
   ]
  },
  {
   "cell_type": "code",
   "execution_count": null,
   "metadata": {
    "ExecuteTime": {
     "end_time": "2021-01-12T06:12:11.107562Z",
     "start_time": "2021-01-12T06:12:10.891581Z"
    }
   },
   "outputs": [],
   "source": [
    "# calculate mean item price for all shops for the first month\n",
    "mean_prices = sales_train.loc[sales_train.date_block_num==1]\\\n",
    ".groupby('item_id')['item_price'].mean().reset_index().rename(columns={'item_price': 'mean_item_price'})"
   ]
  },
  {
   "cell_type": "code",
   "execution_count": null,
   "metadata": {
    "ExecuteTime": {
     "end_time": "2021-01-12T06:31:56.641435Z",
     "start_time": "2021-01-12T06:31:56.523922Z"
    },
    "scrolled": false
   },
   "outputs": [],
   "source": [
    "# calculate the difference between particular shop price and the mean of all shops\n",
    "tmp = sales_train.loc[sales_train.date_block_num==1]\\\n",
    ".groupby(['shop_id', 'item_id'])['item_price'].mean().reset_index()\n",
    "tmp = tmp.merge(mean_prices)\n",
    "tmp.loc[:, 'diff'] = (tmp.item_price - tmp.mean_item_price).clip(-20, 20)\n",
    "tmp = tmp.groupby('shop_id').mean().reset_index()\n",
    "tmp = tmp.merge(shops)"
   ]
  },
  {
   "cell_type": "code",
   "execution_count": null,
   "metadata": {
    "ExecuteTime": {
     "end_time": "2021-01-12T06:31:57.164865Z",
     "start_time": "2021-01-12T06:31:57.147180Z"
    }
   },
   "outputs": [],
   "source": [
    "tmp.head()"
   ]
  },
  {
   "cell_type": "code",
   "execution_count": null,
   "metadata": {
    "ExecuteTime": {
     "end_time": "2021-01-12T06:36:22.359835Z",
     "start_time": "2021-01-12T06:36:22.275031Z"
    }
   },
   "outputs": [],
   "source": [
    "fig = px.scatter_mapbox(tmp, lat=\"lat\", lon=\"lon\", zoom=1.8,\n",
    "                        hover_name=\"city\", color='diff', \n",
    "                        color_continuous_scale=plotly.colors.sequential.RdBu)\n",
    "fig.update_layout(mapbox_style=\"open-street-map\")"
   ]
  },
  {
   "cell_type": "markdown",
   "metadata": {},
   "source": [
    "All the shops are located across entire Russia. There is also one shope at Belarus in Minsk. \n",
    "\n",
    "There are two shops which have products much cheaper than the others. But those could be shops from the third cluster that was noticed earlier.\n",
    "\n",
    "The price at other shops seem to be quite similar to each other."
   ]
  },
  {
   "cell_type": "markdown",
   "metadata": {},
   "source": [
    "# Decomposition of time series"
   ]
  },
  {
   "cell_type": "code",
   "execution_count": null,
   "metadata": {
    "ExecuteTime": {
     "end_time": "2021-01-12T06:38:18.953519Z",
     "start_time": "2021-01-12T06:38:18.935874Z"
    }
   },
   "outputs": [],
   "source": [
    "sales_train.head()"
   ]
  },
  {
   "cell_type": "code",
   "execution_count": null,
   "metadata": {
    "ExecuteTime": {
     "end_time": "2021-01-12T06:38:23.830063Z",
     "start_time": "2021-01-12T06:38:22.430695Z"
    }
   },
   "outputs": [],
   "source": [
    "tmp = sales_train.groupby(['date_block_num', 'shop_id'])['income'].sum().reset_index()\n",
    "px.line(\n",
    "    tmp, x='date_block_num', y='income', color='shop_id', log_y=True, range_y=[1e5, 2e7]\n",
    ").show()\n",
    "\n",
    "tmp = sales_train.groupby(['date_block_num', 'shop_id'])['item_cnt_day'].sum().reset_index()\n",
    "px.line(\n",
    "    tmp, x='date_block_num', y='item_cnt_day', color='shop_id', log_y=True, range_y=[200, 20000]\n",
    ").show()"
   ]
  },
  {
   "cell_type": "markdown",
   "metadata": {},
   "source": [
    "Here are the income and number of sold items on log y scale through time in respect to shops. \n",
    "\n",
    "We can notice two high peaks that were noticed earlier. They occur during December. "
   ]
  },
  {
   "cell_type": "code",
   "execution_count": null,
   "metadata": {
    "ExecuteTime": {
     "end_time": "2021-01-12T06:43:06.212934Z",
     "start_time": "2021-01-12T06:43:04.433604Z"
    },
    "scrolled": false
   },
   "outputs": [],
   "source": [
    "from statsmodels.tsa.seasonal import STL\n",
    "\n",
    "for metric in ['item_cnt_day', 'income']:\n",
    "    tmp = sales_train.groupby(['shop_id', 'date_block_num'])['item_cnt_day'].sum().reset_index()\n",
    "\n",
    "    fig = plotly.subplots.make_subplots(\n",
    "        rows=4, shared_xaxes=True, subplot_titles=['Observations', 'Trend', 'Season', 'Resid'],\n",
    "        vertical_spacing=0.05\n",
    "    )\n",
    "    fig.update_layout(height=1000, showlegend=False, title_text=metric)\n",
    "\n",
    "    # draw decomposed time series\n",
    "    for shop, data in tmp.groupby('shop_id'):\n",
    "\n",
    "        # decomposition\n",
    "        stl = STL(data.item_cnt_day, period=12, seasonal=13)\n",
    "        res = stl.fit()\n",
    "        fig.append_trace(\n",
    "            go.Scatter(\n",
    "                x=data.date_block_num, y=res.observed, mode='lines', line=dict(width=1), opacity=0.3\n",
    "            ), row=1, col=1\n",
    "        )\n",
    "        fig.append_trace(\n",
    "            go.Scatter(\n",
    "                x=data.date_block_num, y=res.trend, mode='lines', line=dict(width=1), opacity=0.3\n",
    "            ), row=2, col=1\n",
    "        )\n",
    "        fig.append_trace(\n",
    "            go.Scatter(\n",
    "                x=data.date_block_num, y=res.seasonal, mode='lines', line=dict(width=1), opacity=0.3\n",
    "            ), row=3, col=1\n",
    "        )\n",
    "        fig.append_trace(\n",
    "            go.Scatter(\n",
    "                x=data.date_block_num, y=res.resid, mode='lines', line=dict(width=1), opacity=0.3\n",
    "            ), row=4, col=1\n",
    "        )\n",
    "\n",
    "    tmp = sales_train.groupby('date_block_num')['item_cnt_day'].sum().reset_index() \n",
    "    tmp.loc[:, 'item_cnt_day'] /= sales_train.shop_id.nunique()\n",
    "    stl = STL(tmp.item_cnt_day, period=3, seasonal=5, trend=5)\n",
    "    res = stl.fit()\n",
    "    fig.append_trace(\n",
    "        go.Scatter(\n",
    "            x=tmp.date_block_num, y=res.observed, mode='lines', line=dict(width=2, color='black'), \n",
    "        ), row=1, col=1\n",
    "    )\n",
    "    fig.append_trace(\n",
    "        go.Scatter(\n",
    "            x=tmp.date_block_num, y=res.trend, mode='lines', line=dict(width=2, color='black'), \n",
    "        ), row=2, col=1\n",
    "    )\n",
    "    fig.append_trace(\n",
    "        go.Scatter(\n",
    "            x=tmp.date_block_num, y=res.seasonal, mode='lines', line=dict(width=2, color='black'), \n",
    "        ), row=3, col=1\n",
    "    )\n",
    "    fig.append_trace(\n",
    "        go.Scatter(\n",
    "            x=tmp.date_block_num, y=res.resid, mode='lines', line=dict(width=2, color='black'),\n",
    "        ), row=4, col=1\n",
    "    )\n",
    "\n",
    "    fig.show()"
   ]
  },
  {
   "cell_type": "markdown",
   "metadata": {},
   "source": [
    "As we noticed earlier - our time series have really strong seasonality. There is a decreasing trend occuring in the number of items being sold and a bit in the income. "
   ]
  },
  {
   "cell_type": "code",
   "execution_count": null,
   "metadata": {
    "ExecuteTime": {
     "end_time": "2021-01-12T06:46:11.903431Z",
     "start_time": "2021-01-12T06:46:11.833902Z"
    }
   },
   "outputs": [],
   "source": [
    "best_shop = sales_train.loc[sales_train.shop_id==31].groupby('date')['income'].sum()\n",
    "best_shop.head()"
   ]
  },
  {
   "cell_type": "code",
   "execution_count": null,
   "metadata": {
    "ExecuteTime": {
     "end_time": "2021-01-12T06:46:14.026186Z",
     "start_time": "2021-01-12T06:46:14.021231Z"
    }
   },
   "outputs": [],
   "source": [
    "from statsmodels.tsa.seasonal import seasonal_decompose"
   ]
  },
  {
   "cell_type": "code",
   "execution_count": null,
   "metadata": {
    "ExecuteTime": {
     "end_time": "2021-01-12T06:46:14.836536Z",
     "start_time": "2021-01-12T06:46:14.685224Z"
    }
   },
   "outputs": [],
   "source": [
    "weekly_decompose = seasonal_decompose(best_shop, model='add', period=7)\n",
    "px.line(weekly_decompose.seasonal)"
   ]
  },
  {
   "cell_type": "markdown",
   "metadata": {},
   "source": [
    "Here we can confirm our previous observations that from Monday to Thursday income is the lowest. Friday is higher tan other working days, but the highest income is during Saturday. Sunday is also high but comparable to Friday."
   ]
  },
  {
   "cell_type": "code",
   "execution_count": null,
   "metadata": {
    "ExecuteTime": {
     "end_time": "2021-01-12T06:46:15.088866Z",
     "start_time": "2021-01-12T06:46:14.923403Z"
    }
   },
   "outputs": [],
   "source": [
    "monthly_decompose = seasonal_decompose(best_shop - weekly_decompose.seasonal, model='add', period=30)\n",
    "px.line(monthly_decompose.seasonal)"
   ]
  },
  {
   "cell_type": "code",
   "execution_count": null,
   "metadata": {
    "ExecuteTime": {
     "end_time": "2021-01-12T06:46:15.358039Z",
     "start_time": "2021-01-12T06:46:15.162129Z"
    }
   },
   "outputs": [],
   "source": [
    "annual_decompose = seasonal_decompose(best_shop - monthly_decompose.seasonal - weekly_decompose.seasonal, model='add', period=365)\n",
    "px.line(annual_decompose.seasonal)"
   ]
  },
  {
   "cell_type": "markdown",
   "metadata": {},
   "source": [
    "At this decomposition we can see similar pattern as previously - December is the best month for selling items.\n",
    "There is though quite a big dversity of seasonality thorough the year."
   ]
  },
  {
   "cell_type": "code",
   "execution_count": null,
   "metadata": {
    "ExecuteTime": {
     "end_time": "2021-01-12T06:51:15.765879Z",
     "start_time": "2021-01-12T06:51:15.631491Z"
    }
   },
   "outputs": [],
   "source": [
    "px.line(best_shop - annual_decompose.seasonal - monthly_decompose.seasonal - weekly_decompose.seasonal)"
   ]
  },
  {
   "cell_type": "markdown",
   "metadata": {},
   "source": [
    "And here we can see quite flat series which means that we explained most of the variability of the seasonality of the data."
   ]
  },
  {
   "cell_type": "markdown",
   "metadata": {},
   "source": [
    "# Test items overview"
   ]
  },
  {
   "cell_type": "code",
   "execution_count": null,
   "metadata": {
    "ExecuteTime": {
     "end_time": "2021-01-12T06:52:23.092338Z",
     "start_time": "2021-01-12T06:52:20.039385Z"
    }
   },
   "outputs": [],
   "source": [
    "cnt = sales_train.groupby(['shop_id', 'item_id'])['date_block_num'].nunique().reset_index()\n",
    "\n",
    "test_covered = test.merge(cnt, how='left').fillna(0)\n",
    "\n",
    "px.histogram(test_covered, x='date_block_num')"
   ]
  },
  {
   "cell_type": "markdown",
   "metadata": {},
   "source": [
    "There is a lot of new products that have not yet been sold. That is problematic because it will require to predict  the sold amount based on similar products from the past."
   ]
  },
  {
   "cell_type": "code",
   "execution_count": null,
   "metadata": {
    "ExecuteTime": {
     "end_time": "2021-01-12T06:52:26.418719Z",
     "start_time": "2021-01-12T06:52:23.105774Z"
    }
   },
   "outputs": [],
   "source": [
    "cnt = sales_train.groupby(['shop_id', 'item_category_id'])['date_block_num'].nunique().reset_index()\n",
    "\n",
    "test_covered = test.merge(items.loc[:, ['item_category_id', 'item_id']]).merge(cnt, how='left').fillna(0)\n",
    "\n",
    "px.histogram(test_covered, x='date_block_num')"
   ]
  },
  {
   "cell_type": "markdown",
   "metadata": {},
   "source": [
    "# ARIMA"
   ]
  },
  {
   "cell_type": "markdown",
   "metadata": {},
   "source": [
    "Here we will try to use classic approach for forecasting of the time series - ARIMA (Autoregressive integrated moving average). This approach copmpose of several components and generalise autoregressive and moving average models.\n",
    "\n",
    "In order to produce meaningful results of ARIMA several conditions must be satisfied. The main is that the data are stationary. This impies no seasonality in the dataset. A stationary time series is one whose properties do not depend on the time at which the series is observed. To investigate whether data are stationary we calculate Kwiatkowski-Phillips-Schmidt-Shin (KPSS) test and also look for seasonality and trend of the time series. Plots of autocorrelation will also be evaluated. \n",
    "\n",
    "Here we reference for the main source of knowledge regarding ARIMA models: https://otexts.com/fpp2/arima.html"
   ]
  },
  {
   "cell_type": "code",
   "execution_count": null,
   "metadata": {},
   "outputs": [],
   "source": [
    "# Useful diagnostic functions"
   ]
  },
  {
   "cell_type": "code",
   "execution_count": null,
   "metadata": {
    "ExecuteTime": {
     "end_time": "2021-01-12T07:00:46.014624Z",
     "start_time": "2021-01-12T07:00:46.010219Z"
    }
   },
   "outputs": [],
   "source": [
    "from statsmodels.tsa.stattools import kpss\n",
    "from statsmodels.tsa.stattools import acf, pacf\n",
    "from statsmodels.graphics.tsaplots import plot_acf, plot_pacf"
   ]
  },
  {
   "cell_type": "code",
   "execution_count": null,
   "metadata": {
    "ExecuteTime": {
     "end_time": "2021-01-12T07:00:46.353693Z",
     "start_time": "2021-01-12T07:00:46.333193Z"
    }
   },
   "outputs": [],
   "source": [
    "sales_train.head()"
   ]
  },
  {
   "cell_type": "code",
   "execution_count": null,
   "metadata": {
    "ExecuteTime": {
     "end_time": "2021-01-12T07:00:46.628867Z",
     "start_time": "2021-01-12T07:00:46.582426Z"
    }
   },
   "outputs": [],
   "source": [
    "sales_train.shop_id.value_counts().head()"
   ]
  },
  {
   "cell_type": "code",
   "execution_count": null,
   "metadata": {
    "ExecuteTime": {
     "end_time": "2021-01-12T06:53:08.677440Z",
     "start_time": "2021-01-12T06:53:08.618074Z"
    }
   },
   "outputs": [],
   "source": [
    "best_shop = sales_train.loc[sales_train.shop_id==31]\n",
    "best_shop"
   ]
  },
  {
   "cell_type": "code",
   "execution_count": null,
   "metadata": {
    "ExecuteTime": {
     "end_time": "2021-01-12T06:53:21.759565Z",
     "start_time": "2021-01-12T06:53:21.736597Z"
    }
   },
   "outputs": [],
   "source": [
    "best_shop = best_shop.groupby('date_block_num')[['income']].sum().reset_index()\n",
    "best_shop.head()"
   ]
  },
  {
   "cell_type": "code",
   "execution_count": null,
   "metadata": {
    "ExecuteTime": {
     "end_time": "2021-01-12T06:53:23.880449Z",
     "start_time": "2021-01-12T06:53:23.866701Z"
    },
    "scrolled": false
   },
   "outputs": [],
   "source": [
    "def is_stationary(x, y, nlags=31):\n",
    "    px.line(x=x, y=y).show()\n",
    "    _, p, _, _ = kpss(y.dropna(), regression='c', nlags='auto')\n",
    "    print(f'KPSS p-value: {p}. Data are {\"NOT \" if p < 0.05 else \"\"}stationary.')\n",
    "    ac, confint, qstat, pvalues = acf(y, nlags=nlags, qstat=True, alpha=0.05, fft=False)\n",
    "\n",
    "    fig = px.scatter(\n",
    "        x=np.arange(nlags+1), \n",
    "        y=ac, \n",
    "    )\n",
    "    \n",
    "    fig.add_traces(\n",
    "        [go.Scatter(x=np.arange(nlags + 1), y=ac - confint[:, 0],\n",
    "                    fill='tozeroy', mode='none', fillcolor='rgba(219,106,100,0.3)'),\n",
    "         go.Scatter(x=np.arange(nlags + 1), y=confint[:, 0] - ac,\n",
    "                    fill='tozeroy', mode='none', fillcolor='rgba(219,106,100,0.3)')]\n",
    "    )\n",
    "    \n",
    "    fig.update_layout(\n",
    "        yaxis = dict(title='ACF'),\n",
    "        xaxis = dict(title='lag')\n",
    "    ).show()\n",
    "\n",
    "    ac, confint = pacf(y, nlags=nlags,alpha=0.05)\n",
    "    \n",
    "    fig = px.scatter(\n",
    "        x=np.arange(nlags+1), \n",
    "        y=ac, \n",
    "    )\n",
    "    \n",
    "    fig.add_traces(\n",
    "        [go.Scatter(x=np.arange(nlags + 1), y=ac - confint[:, 0],\n",
    "                    fill='tozeroy', mode='none', fillcolor='rgba(219,106,100,0.3)'),\n",
    "         go.Scatter(x=np.arange(nlags + 1), y=confint[:, 0] - ac,\n",
    "                    fill='tozeroy', mode='none', fillcolor='rgba(219,106,100,0.3)')]\n",
    "    )\n",
    "    \n",
    "    fig.update_layout(\n",
    "        yaxis = dict(title='PACF'),\n",
    "        xaxis = dict(title='lag')\n",
    "    ).show()\n",
    "\n",
    "    "
   ]
  },
  {
   "cell_type": "code",
   "execution_count": null,
   "metadata": {
    "ExecuteTime": {
     "end_time": "2021-01-12T06:53:30.264306Z",
     "start_time": "2021-01-12T06:53:29.938452Z"
    }
   },
   "outputs": [],
   "source": [
    "is_stationary(best_shop.date_block_num, best_shop.income, nlags=len(best_shop) // 2 - 1)"
   ]
  },
  {
   "cell_type": "code",
   "execution_count": null,
   "metadata": {
    "ExecuteTime": {
     "end_time": "2021-01-12T07:03:13.301872Z",
     "start_time": "2021-01-12T07:03:12.462910Z"
    },
    "scrolled": false
   },
   "outputs": [],
   "source": [
    "# month model\n",
    "arima = ARIMA(best_shop.loc[:28, 'income'], order=(3, 1, 0),\n",
    "              seasonal_order=(3, 1, 0, 12)\n",
    "             )\n",
    "res = arima.fit()\n",
    "\n",
    "fig = go.Figure()\n",
    "fig.add_traces(\n",
    "    [\n",
    "        go.Scatter(x=best_shop.date_block_num, y=best_shop.income, name='data'),\n",
    "        go.Scatter(x=best_shop.date_block_num, y=res.predict(), name='prediction'),\n",
    "        go.Scatter(x=best_shop.date_block_num.iloc[28:], y=res.forecast(8), name='forecast'),\n",
    "    ]\n",
    ").show()\n",
    "\n",
    "res.summary()"
   ]
  },
  {
   "cell_type": "markdown",
   "metadata": {},
   "source": [
    "The parameters for the seasonal ARIMA model have been fine tunned and above model seem to be ok, but still not perfect. We are afraid that model will not be robust for data with smaller granuality (which is data regarding particualar shop and item). The biggest drawback of this method is that it can't include other variables to enhance the performance. We will then not perform further consideration of ARIMA model."
   ]
  },
  {
   "cell_type": "code",
   "execution_count": null,
   "metadata": {},
   "outputs": [],
   "source": []
  },
  {
   "cell_type": "code",
   "execution_count": null,
   "metadata": {},
   "outputs": [],
   "source": []
  }
 ],
 "metadata": {
  "kernelspec": {
   "display_name": "Python 3",
   "language": "python",
   "name": "python3"
  },
  "language_info": {
   "codemirror_mode": {
    "name": "ipython",
    "version": 3
   },
   "file_extension": ".py",
   "mimetype": "text/x-python",
   "name": "python",
   "nbconvert_exporter": "python",
   "pygments_lexer": "ipython3",
   "version": "3.8.5"
  },
  "toc": {
   "base_numbering": 1,
   "nav_menu": {},
   "number_sections": true,
   "sideBar": true,
   "skip_h1_title": false,
   "title_cell": "Table of Contents",
   "title_sidebar": "Contents",
   "toc_cell": true,
   "toc_position": {
    "height": "calc(100% - 180px)",
    "left": "10px",
    "top": "150px",
    "width": "217.562px"
   },
   "toc_section_display": true,
   "toc_window_display": true
  }
 },
 "nbformat": 4,
 "nbformat_minor": 4
}
