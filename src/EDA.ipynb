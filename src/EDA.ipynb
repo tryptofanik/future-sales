{
 "cells": [
  {
   "cell_type": "markdown",
   "metadata": {
    "toc": true
   },
   "source": [
    "<h1>Table of Contents<span class=\"tocSkip\"></span></h1>\n",
    "<div class=\"toc\"><ul class=\"toc-item\"><li><span><a href=\"#Import,-setups\" data-toc-modified-id=\"Import,-setups-1\"><span class=\"toc-item-num\">1&nbsp;&nbsp;</span>Import, setups</a></span></li><li><span><a href=\"#Read-data\" data-toc-modified-id=\"Read-data-2\"><span class=\"toc-item-num\">2&nbsp;&nbsp;</span>Read data</a></span></li><li><span><a href=\"#EDA\" data-toc-modified-id=\"EDA-3\"><span class=\"toc-item-num\">3&nbsp;&nbsp;</span>EDA</a></span><ul class=\"toc-item\"><li><span><a href=\"#Impact-of-the-day-of-the-week\" data-toc-modified-id=\"Impact-of-the-day-of-the-week-3.1\"><span class=\"toc-item-num\">3.1&nbsp;&nbsp;</span>Impact of the day of the week</a></span></li><li><span><a href=\"#Impact-of-the-day-of-the-month\" data-toc-modified-id=\"Impact-of-the-day-of-the-month-3.2\"><span class=\"toc-item-num\">3.2&nbsp;&nbsp;</span>Impact of the day of the month</a></span></li><li><span><a href=\"#Impact-of-the-month\" data-toc-modified-id=\"Impact-of-the-month-3.3\"><span class=\"toc-item-num\">3.3&nbsp;&nbsp;</span>Impact of the month</a></span></li><li><span><a href=\"#Items-categories\" data-toc-modified-id=\"Items-categories-3.4\"><span class=\"toc-item-num\">3.4&nbsp;&nbsp;</span>Items categories</a></span></li><li><span><a href=\"#For-how-long-itmes-have-been-sold\" data-toc-modified-id=\"For-how-long-itmes-have-been-sold-3.5\"><span class=\"toc-item-num\">3.5&nbsp;&nbsp;</span>For how long itmes have been sold</a></span></li><li><span><a href=\"#Shops-analysis\" data-toc-modified-id=\"Shops-analysis-3.6\"><span class=\"toc-item-num\">3.6&nbsp;&nbsp;</span>Shops analysis</a></span></li><li><span><a href=\"#Did-shops-differ-in-offer?\" data-toc-modified-id=\"Did-shops-differ-in-offer?-3.7\"><span class=\"toc-item-num\">3.7&nbsp;&nbsp;</span>Did shops differ in offer?</a></span></li><li><span><a href=\"#Shops-location\" data-toc-modified-id=\"Shops-location-3.8\"><span class=\"toc-item-num\">3.8&nbsp;&nbsp;</span>Shops location</a></span></li></ul></li><li><span><a href=\"#Decomposition-for-entire-company\" data-toc-modified-id=\"Decomposition-for-entire-company-4\"><span class=\"toc-item-num\">4&nbsp;&nbsp;</span>Decomposition for entire company</a></span></li><li><span><a href=\"#Test-items-overview\" data-toc-modified-id=\"Test-items-overview-5\"><span class=\"toc-item-num\">5&nbsp;&nbsp;</span>Test items overview</a></span></li><li><span><a href=\"#ARIMA\" data-toc-modified-id=\"ARIMA-6\"><span class=\"toc-item-num\">6&nbsp;&nbsp;</span>ARIMA</a></span></li></ul></div>"
   ]
  },
  {
   "cell_type": "markdown",
   "metadata": {},
   "source": [
    "# Import, setups"
   ]
  },
  {
   "cell_type": "code",
   "execution_count": null,
   "metadata": {},
   "outputs": [],
   "source": [
    "import pandas as pd\n",
    "import numpy as np\n",
    "import plotly\n",
    "import plotly.express as px\n",
    "import plotly.graph_objects as go\n",
    "from tqdm.notebook import tqdm\n",
    "import seaborn as sns\n",
    "import matplotlib.pyplot as plt\n",
    "from collections import Counter\n",
    "from datetime import datetime\n",
    "\n",
    "from statsmodels.graphics.gofplots import qqplot\n",
    "from statsmodels.stats.multitest import multipletests\n",
    "from statsmodels.graphics.tsaplots import plot_acf\n",
    "from statsmodels.tsa.arima.model import ARIMA\n",
    "import scipy\n",
    "\n",
    "from geopy.geocoders import Nominatim"
   ]
  },
  {
   "cell_type": "markdown",
   "metadata": {},
   "source": [
    "# Read data"
   ]
  },
  {
   "cell_type": "code",
   "execution_count": null,
   "metadata": {},
   "outputs": [],
   "source": [
    "DATA_PREFIX = '../data/'"
   ]
  },
  {
   "cell_type": "code",
   "execution_count": null,
   "metadata": {},
   "outputs": [],
   "source": [
    "item_categories = pd.read_csv(DATA_PREFIX + 'item_categories.csv')\n",
    "items = pd.read_csv(DATA_PREFIX + 'items.csv')\n",
    "sales_train = pd.read_csv(DATA_PREFIX + 'sales_train.csv')\n",
    "shops = pd.read_csv(DATA_PREFIX + 'shops.csv')\n",
    "test = pd.read_csv(DATA_PREFIX + 'test.csv')"
   ]
  },
  {
   "cell_type": "code",
   "execution_count": null,
   "metadata": {},
   "outputs": [],
   "source": [
    "shops.head()"
   ]
  },
  {
   "cell_type": "code",
   "execution_count": null,
   "metadata": {},
   "outputs": [],
   "source": [
    "print(len(item_categories))\n",
    "item_categories.head()"
   ]
  },
  {
   "cell_type": "code",
   "execution_count": null,
   "metadata": {},
   "outputs": [],
   "source": [
    "print(len(items))\n",
    "items.head()"
   ]
  },
  {
   "cell_type": "code",
   "execution_count": null,
   "metadata": {},
   "outputs": [],
   "source": [
    "# Merge category of item to each of the items\n",
    "# items = items.merge(item_categories, on='item_category_id')\n",
    "items.head()"
   ]
  },
  {
   "cell_type": "code",
   "execution_count": null,
   "metadata": {},
   "outputs": [],
   "source": [
    "sales_train.head()"
   ]
  },
  {
   "cell_type": "code",
   "execution_count": null,
   "metadata": {},
   "outputs": [],
   "source": [
    "sales_train = sales_train.merge(items.loc[:, ['item_id', 'item_category_id']], on='item_id')"
   ]
  },
  {
   "cell_type": "code",
   "execution_count": null,
   "metadata": {},
   "outputs": [],
   "source": [
    "sales_train.describe()"
   ]
  },
  {
   "cell_type": "code",
   "execution_count": null,
   "metadata": {},
   "outputs": [],
   "source": [
    "sales_train.info()"
   ]
  },
  {
   "cell_type": "code",
   "execution_count": null,
   "metadata": {},
   "outputs": [],
   "source": [
    "sales_train.loc[:, 'date'] = pd.to_datetime(sales_train.date)"
   ]
  },
  {
   "cell_type": "code",
   "execution_count": null,
   "metadata": {},
   "outputs": [],
   "source": [
    "sales_train = sales_train.sort_values(\n",
    "    ['date', 'shop_id', 'item_category_id', 'item_id']\n",
    ").reset_index(drop=True)"
   ]
  },
  {
   "cell_type": "code",
   "execution_count": null,
   "metadata": {
    "scrolled": true
   },
   "outputs": [],
   "source": [
    "sales_train.loc[:, 'day'] = sales_train.date.dt.day\n",
    "sales_train.loc[:, 'month'] = sales_train.date.dt.month\n",
    "sales_train.loc[:, 'year'] = sales_train.date.dt.year\n",
    "sales_train.loc[:, 'dayofweek'] = sales_train.date.dt.dayofweek"
   ]
  },
  {
   "cell_type": "code",
   "execution_count": null,
   "metadata": {},
   "outputs": [],
   "source": [
    "sales_train.loc[:, 'income'] = sales_train.item_price * sales_train.item_cnt_day"
   ]
  },
  {
   "cell_type": "markdown",
   "metadata": {},
   "source": [
    "# EDA"
   ]
  },
  {
   "cell_type": "code",
   "execution_count": null,
   "metadata": {},
   "outputs": [],
   "source": [
    "sales_train.head()"
   ]
  },
  {
   "cell_type": "code",
   "execution_count": null,
   "metadata": {},
   "outputs": [],
   "source": [
    "px.line(\n",
    "    sales_train.groupby('date_block_num')['item_cnt_day'].sum().reset_index(), \n",
    "    x='date_block_num', y='item_cnt_day')"
   ]
  },
  {
   "cell_type": "code",
   "execution_count": null,
   "metadata": {},
   "outputs": [],
   "source": [
    "px.line(\n",
    "    sales_train.groupby('date_block_num')['income'].sum().reset_index(), \n",
    "    x='date_block_num', y='income')"
   ]
  },
  {
   "cell_type": "code",
   "execution_count": null,
   "metadata": {},
   "outputs": [],
   "source": [
    "months = ['', 'January', 'February', 'March', 'April', 'May', 'June', 'July', \n",
    "          'August', 'September', 'October', 'November', 'December']\n",
    "day_sales = sales_train.groupby(['year', 'month'])['item_cnt_day'].sum().reset_index()\n",
    "day_sales.loc[:, 'month'] = day_sales.month.apply(lambda x: months[x])\n",
    "day_sales = day_sales.reset_index()\n",
    "fig = px.scatter_polar(\n",
    "    day_sales, r='item_cnt_day', theta='month', color='index', \n",
    "    color_continuous_scale='viridis')\n",
    "fig.update_layout(\n",
    "    coloraxis_colorbar=dict(\n",
    "        title=\"months<br>since<br>beginning\",\n",
    "    ),\n",
    ")"
   ]
  },
  {
   "cell_type": "markdown",
   "metadata": {},
   "source": [
    "## Impact of the day of the week"
   ]
  },
  {
   "cell_type": "code",
   "execution_count": null,
   "metadata": {},
   "outputs": [],
   "source": [
    "per_day_sales = sales_train.groupby(['dayofweek', 'date'])[['item_cnt_day', 'income']].sum().reset_index()"
   ]
  },
  {
   "cell_type": "code",
   "execution_count": null,
   "metadata": {
    "scrolled": false
   },
   "outputs": [],
   "source": [
    "px.box(\n",
    "    per_day_sales, \n",
    "    x='dayofweek', y='income', points='outliers')\\\n",
    ".update_layout(\n",
    "    yaxis_range=[0, per_day_sales.income.quantile(0.99)]\n",
    ")"
   ]
  },
  {
   "cell_type": "code",
   "execution_count": null,
   "metadata": {
    "scrolled": false
   },
   "outputs": [],
   "source": [
    "px.box(\n",
    "    per_day_sales, \n",
    "    x='dayofweek', y='item_cnt_day', points='outliers')\\\n",
    ".update_layout(\n",
    "    yaxis_range=[0, per_day_sales.item_cnt_day.quantile(0.99)]\n",
    ")"
   ]
  },
  {
   "cell_type": "code",
   "execution_count": null,
   "metadata": {
    "scrolled": true
   },
   "outputs": [],
   "source": [
    "results = []\n",
    "for day1 in range(7):\n",
    "    for day2 in range(day1 + 1, 7):\n",
    "        _, p = scipy.stats.ranksums(\n",
    "            x=per_day_sales.loc[per_day_sales.dayofweek==day1, 'item_cnt_day'],\n",
    "            y=per_day_sales.loc[per_day_sales.dayofweek==day2, 'item_cnt_day'],\n",
    "        )\n",
    "        results.append([(day1, day2), p])"
   ]
  },
  {
   "cell_type": "code",
   "execution_count": null,
   "metadata": {},
   "outputs": [],
   "source": [
    "# Benjamini/Hochberg correction for p values when performing many tests\n",
    "_, p, _, _ = multipletests([i[1] for i in results], alpha=0.05, method='fdr_bh', returnsorted=False)\n",
    "for i in range(len(results)):\n",
    "    results[i][1] = p[i]\n",
    "    \n",
    "for days, p in results:\n",
    "    if p < 0.05:\n",
    "        print(days)"
   ]
  },
  {
   "cell_type": "markdown",
   "metadata": {},
   "source": [
    "From this test and from above histogram we see that from Monday to Thursay sales are the lowest (and also we can't say which day makes more income - those differences are statistically not significant). Every day from Friday to Sunday produces significantly more income that other working days. In particular Saturday outperforms every other day including Friday and Sunday. There is no siginificant difference between Friday and Sunday."
   ]
  },
  {
   "cell_type": "markdown",
   "metadata": {},
   "source": [
    "## Impact of the day of the month"
   ]
  },
  {
   "cell_type": "code",
   "execution_count": null,
   "metadata": {},
   "outputs": [],
   "source": [
    "per_dayofmonth_sales = sales_train.groupby(['day', 'date'])[['item_cnt_day', 'income']].sum().reset_index()"
   ]
  },
  {
   "cell_type": "code",
   "execution_count": null,
   "metadata": {},
   "outputs": [],
   "source": [
    "px.box(\n",
    "    per_dayofmonth_sales, \n",
    "    x='day', y='income', points='outliers')\\\n",
    ".update_layout(\n",
    "    yaxis_range=[0, per_dayofmonth_sales.income.quantile(0.99)]\n",
    ")"
   ]
  },
  {
   "cell_type": "code",
   "execution_count": null,
   "metadata": {},
   "outputs": [],
   "source": [
    "px.box(\n",
    "    per_dayofmonth_sales, \n",
    "    x='day', y='item_cnt_day', points='outliers')\\\n",
    ".update_layout(\n",
    "    yaxis_range=[0, per_dayofmonth_sales.item_cnt_day.quantile(0.99)]\n",
    ")"
   ]
  },
  {
   "cell_type": "markdown",
   "metadata": {},
   "source": [
    "## Impact of the month"
   ]
  },
  {
   "cell_type": "code",
   "execution_count": null,
   "metadata": {},
   "outputs": [],
   "source": [
    "per_month_sales = sales_train.groupby(['month', 'date'])[['item_cnt_day', 'income']].sum().reset_index()\n",
    "\n",
    "px.box(\n",
    "    per_month_sales, \n",
    "    x='month', y='income', points='outliers')\\\n",
    ".update_layout(\n",
    "    yaxis_range=[0, per_month_sales.income.quantile(0.99)]\n",
    ")"
   ]
  },
  {
   "cell_type": "code",
   "execution_count": null,
   "metadata": {},
   "outputs": [],
   "source": [
    "px.box(\n",
    "    per_month_sales, \n",
    "    x='month', y='item_cnt_day', points='outliers')\\\n",
    ".update_layout(\n",
    "    yaxis_range=[0, per_month_sales.item_cnt_day.quantile(0.99)]\n",
    ")"
   ]
  },
  {
   "cell_type": "markdown",
   "metadata": {},
   "source": [
    "## Items categories"
   ]
  },
  {
   "cell_type": "code",
   "execution_count": null,
   "metadata": {},
   "outputs": [],
   "source": [
    "print(f'Number of unique items {len(items)}\\nNumber of categories {len(items.item_category_id.unique())}')"
   ]
  },
  {
   "cell_type": "code",
   "execution_count": null,
   "metadata": {},
   "outputs": [],
   "source": [
    "px.histogram(items.groupby('item_category_id')['item_id'].count(), nbins=1000)\\\n",
    ".update_layout(xaxis_title='group size', yaxis_title='number of groups')"
   ]
  },
  {
   "cell_type": "code",
   "execution_count": null,
   "metadata": {},
   "outputs": [],
   "source": [
    "tmp = sales_train.groupby(['item_category_id', 'item_id'])['item_price'].mean().reset_index()\n",
    "order = tmp.groupby('item_category_id').mean().reset_index().sort_values('item_price').item_category_id.tolist()\n",
    "px.box(\n",
    "    tmp,\n",
    "    x='item_category_id', y='item_price', log_y=True, category_orders={'item_category_id': order}\n",
    ")\\\n",
    ".update_layout(\n",
    "    xaxis_type='category',\n",
    "    width=1500\n",
    ")"
   ]
  },
  {
   "cell_type": "markdown",
   "metadata": {},
   "source": [
    "Categories differs in price to each other"
   ]
  },
  {
   "cell_type": "code",
   "execution_count": null,
   "metadata": {},
   "outputs": [],
   "source": [
    "item_categories.loc[12] \n",
    "\n",
    "# indeed, the most expensive category is PS4 :)"
   ]
  },
  {
   "cell_type": "code",
   "execution_count": null,
   "metadata": {},
   "outputs": [],
   "source": [
    "item_categories.loc[71]\n",
    "\n",
    "# Gifts - Bags, Albums, Mouse Pads are the cheapest"
   ]
  },
  {
   "cell_type": "markdown",
   "metadata": {},
   "source": [
    "## For how long itmes have been sold "
   ]
  },
  {
   "cell_type": "code",
   "execution_count": null,
   "metadata": {},
   "outputs": [],
   "source": [
    "sales_train"
   ]
  },
  {
   "cell_type": "code",
   "execution_count": null,
   "metadata": {},
   "outputs": [],
   "source": [
    "tmp = pd.pivot_table(sales_train, index='item_id', values='date', aggfunc=['min', 'max'])\n",
    "\n",
    "tmp.loc[:, 'min_date'] = tmp.loc[:, 'min'].date\n",
    "tmp.loc[:, 'max_date'] = tmp.loc[:, 'max'].date\n",
    "tmp = tmp.drop(['min', 'max'], axis=1)\n",
    "\n",
    "tmp.loc[:, 'item_last'] = (tmp.loc[:, 'max_date'] - tmp.loc[:, 'min_date']).dt.days\n",
    "\n",
    "tmp = tmp.sort_values(['min_date', 'item_last'], axis=0)"
   ]
  },
  {
   "cell_type": "code",
   "execution_count": null,
   "metadata": {},
   "outputs": [],
   "source": [
    "px.histogram(tmp.item_last)\\\n",
    ".update_layout(\n",
    "    title='Histogram of time of products being sold',\n",
    "    xaxis_title='Number of days the product have been sold',\n",
    "    yaxis_title='# of products'\n",
    ")"
   ]
  },
  {
   "cell_type": "code",
   "execution_count": null,
   "metadata": {},
   "outputs": [],
   "source": [
    "# difficult to render!\n",
    "fig = go.Figure()\n",
    "for i, (item, data) in enumerate(tmp.iterrows()):\n",
    "    data = data.values[:2]\n",
    "    fig.add_trace(\n",
    "        go.Scattergl(\n",
    "            x=data, y=[i, i], \n",
    "            mode='lines', \n",
    "            line=dict(color='red'),\n",
    "            showlegend=False,\n",
    "        )\n",
    "   )\n",
    "fig\n",
    "\n",
    "del fig"
   ]
  },
  {
   "cell_type": "code",
   "execution_count": null,
   "metadata": {
    "scrolled": true
   },
   "outputs": [],
   "source": [
    "px.histogram(x=tmp.min_date).show()\n",
    "px.histogram(x=tmp.max_date).show()\n",
    "px.histogram(x=tmp.min_date.dt.month).show()\n",
    "px.histogram(x=tmp.max_date.dt.month).show()\n",
    "px.histogram(x=tmp.min_date.dt.day).show()\n",
    "px.histogram(x=tmp.max_date.dt.day).show()"
   ]
  },
  {
   "cell_type": "markdown",
   "metadata": {},
   "source": [
    "As seen from those plots - most of items are introducted within two weeks after New Year. They are recalled the most offen within first two weeks of December."
   ]
  },
  {
   "cell_type": "code",
   "execution_count": null,
   "metadata": {},
   "outputs": [],
   "source": []
  },
  {
   "cell_type": "markdown",
   "metadata": {},
   "source": [
    "## Shops analysis"
   ]
  },
  {
   "cell_type": "code",
   "execution_count": null,
   "metadata": {},
   "outputs": [],
   "source": [
    "len(sales_train.shop_id.unique())"
   ]
  },
  {
   "cell_type": "code",
   "execution_count": null,
   "metadata": {},
   "outputs": [],
   "source": [
    "tmp = pd.pivot_table(sales_train, index='shop_id', values='date', aggfunc=['min', 'max'])\n",
    "tmp.loc[:, 'min_date'] = tmp.loc[:, 'min'].date\n",
    "tmp.loc[:, 'max_date'] = tmp.loc[:, 'max'].date\n",
    "tmp = tmp.drop(['min', 'max'], axis=1)\n",
    "tmp.loc[:, 'shop_last'] = (tmp.loc[:, 'max_date'] - tmp.loc[:, 'min_date']).dt.days\n",
    "tmp = tmp.sort_values(['min_date', 'shop_last'], axis=0)"
   ]
  },
  {
   "cell_type": "code",
   "execution_count": null,
   "metadata": {},
   "outputs": [],
   "source": [
    "fig = go.Figure()\n",
    "for i, (item, data) in enumerate(tmp.iterrows()):\n",
    "    data = data.values[:2]\n",
    "    fig.add_trace(\n",
    "        go.Scattergl(\n",
    "            x=data, y=[i, i], \n",
    "            mode='lines', \n",
    "            line=dict(color='red'),\n",
    "            showlegend=False,\n",
    "        )\n",
    "   )\n",
    "fig.show()\n",
    "del fig"
   ]
  },
  {
   "cell_type": "markdown",
   "metadata": {},
   "source": [
    "On average ~50 shops were constantly active. If shop happend to be closed/open it was usually near New Year."
   ]
  },
  {
   "cell_type": "markdown",
   "metadata": {},
   "source": [
    "## Did shops differ in offer?"
   ]
  },
  {
   "cell_type": "code",
   "execution_count": null,
   "metadata": {},
   "outputs": [],
   "source": [
    "shop_specification = pd.pivot_table(\n",
    "    sales_train, index='shop_id', columns='item_category_id', values='income', aggfunc='sum'\n",
    ")\n",
    "sns.clustermap(shop_specification.fillna(False).astype(bool), cmap='gray', vmin=-0.5, vmax=1.2)"
   ]
  },
  {
   "cell_type": "code",
   "execution_count": null,
   "metadata": {},
   "outputs": [],
   "source": [
    "sns.clustermap(np.nan_to_num(shop_specification, 0))"
   ]
  },
  {
   "cell_type": "code",
   "execution_count": null,
   "metadata": {},
   "outputs": [],
   "source": [
    "sns.clustermap(np.log10(np.maximum(np.nan_to_num(shop_specification, 0), 1)))"
   ]
  },
  {
   "cell_type": "markdown",
   "metadata": {},
   "source": [
    "There are 3 clusters of shops. One comprises most of the shops, they have big or huge earnings and sell similar kind of products. Within it we can distinguish approx. 6 shops that have enormous income.\n",
    "\n",
    "The second cluster have smaller earnings and in general shops within in have smaller diversity of products.\n",
    "\n",
    "Thist cluster is created by 2 shops which have very limited assortment. One of them sells products of completely different type than the others."
   ]
  },
  {
   "cell_type": "code",
   "execution_count": null,
   "metadata": {},
   "outputs": [],
   "source": []
  },
  {
   "cell_type": "markdown",
   "metadata": {},
   "source": [
    "## Shops location"
   ]
  },
  {
   "cell_type": "code",
   "execution_count": null,
   "metadata": {},
   "outputs": [],
   "source": [
    "geolocator = Nominatim(user_agent=\"russia cities\")"
   ]
  },
  {
   "cell_type": "code",
   "execution_count": null,
   "metadata": {},
   "outputs": [],
   "source": [
    "shops.loc[:, 'city'] = shops.shop_name.apply(lambda x: x.split()[0])\n",
    "shops.loc[:, 'category'] = shops.shop_name.apply(lambda x: x.split()[1])"
   ]
  },
  {
   "cell_type": "code",
   "execution_count": null,
   "metadata": {},
   "outputs": [],
   "source": [
    "categories_counts = shops.category.value_counts()\n",
    "categories_counts"
   ]
  },
  {
   "cell_type": "code",
   "execution_count": null,
   "metadata": {},
   "outputs": [],
   "source": [
    "idx = categories_counts[categories_counts.lt(4)].index\n",
    "shops.loc[shops.category.isin(idx), 'category'] = 'other'"
   ]
  },
  {
   "cell_type": "code",
   "execution_count": null,
   "metadata": {},
   "outputs": [],
   "source": [
    "shops.loc[shops.city == 'РостовНаДону', 'city'] = 'Ростов-На-Дону'"
   ]
  },
  {
   "cell_type": "code",
   "execution_count": null,
   "metadata": {},
   "outputs": [],
   "source": [
    "city_pos = dict()\n",
    "for city in tqdm(shops.city.unique()):\n",
    "    try:\n",
    "        location = geolocator.geocode(city)\n",
    "        city_pos[city] = (location.latitude, location.longitude)\n",
    "    except:\n",
    "        continue"
   ]
  },
  {
   "cell_type": "code",
   "execution_count": null,
   "metadata": {},
   "outputs": [],
   "source": [
    "city_pos"
   ]
  },
  {
   "cell_type": "code",
   "execution_count": null,
   "metadata": {},
   "outputs": [],
   "source": [
    "shops.loc[:, 'latlon'] = shops.city.map(city_pos)\n",
    "shops.loc[:, 'lat'] = shops.latlon.apply(lambda x: x[0])\n",
    "shops.loc[:, 'lon'] = shops.latlon.apply(lambda x: x[1])\n",
    "shops = shops.drop(columns='latlon')\n",
    "shops.head()"
   ]
  },
  {
   "cell_type": "markdown",
   "metadata": {},
   "source": [
    "Lets ask question if the product price depend on the shop and its location."
   ]
  },
  {
   "cell_type": "code",
   "execution_count": null,
   "metadata": {},
   "outputs": [],
   "source": [
    "mean_prices = sales_train.loc[sales_train.date_block_num==1]\\\n",
    ".groupby('item_id')['item_price'].mean().reset_index().rename(columns={'item_price': 'mean_item_price'})"
   ]
  },
  {
   "cell_type": "code",
   "execution_count": null,
   "metadata": {
    "scrolled": false
   },
   "outputs": [],
   "source": [
    "tmp = sales_train.loc[sales_train.date_block_num==1]\\\n",
    ".groupby(['shop_id', 'item_id'])['item_price'].mean().reset_index()\n",
    "tmp = tmp.merge(mean_prices)\n",
    "tmp.loc[:, 'diff'] = tmp.item_price - tmp.mean_item_price\n",
    "tmp = tmp.groupby('shop_id').mean().reset_index()\n",
    "tmp = tmp.merge(shops)"
   ]
  },
  {
   "cell_type": "code",
   "execution_count": null,
   "metadata": {},
   "outputs": [],
   "source": [
    "tmp.head()"
   ]
  },
  {
   "cell_type": "code",
   "execution_count": null,
   "metadata": {},
   "outputs": [],
   "source": [
    "fig = px.scatter_mapbox(tmp, lat=\"lat\", lon=\"lon\", zoom=1.8,\n",
    "                        hover_name=\"city\", color='diff')\n",
    "fig.update_layout(mapbox_style=\"open-street-map\")"
   ]
  },
  {
   "cell_type": "markdown",
   "metadata": {},
   "source": [
    "# Decomposition for entire company"
   ]
  },
  {
   "cell_type": "code",
   "execution_count": null,
   "metadata": {},
   "outputs": [],
   "source": [
    "sales_train.head()"
   ]
  },
  {
   "cell_type": "code",
   "execution_count": null,
   "metadata": {},
   "outputs": [],
   "source": [
    "tmp = sales_train.groupby(['date_block_num', 'shop_id'])['income'].sum().reset_index()\n",
    "px.line(\n",
    "    tmp, x='date_block_num', y='income', color='shop_id', log_y=True, range_y=[1e5, 2e7]\n",
    ").show()\n",
    "\n",
    "tmp = sales_train.groupby(['date_block_num', 'shop_id'])['item_cnt_day'].sum().reset_index()\n",
    "px.line(\n",
    "    tmp, x='date_block_num', y='item_cnt_day', color='shop_id', log_y=True, range_y=[200, 20000]\n",
    ").show()"
   ]
  },
  {
   "cell_type": "code",
   "execution_count": null,
   "metadata": {},
   "outputs": [],
   "source": [
    "tmp = sales_train.groupby(['shop_id', 'date_block_num'])['item_cnt_day'].sum().reset_index()\n",
    "\n",
    "from statsmodels.tsa.seasonal import STL\n",
    "\n",
    "fig = plotly.subplots.make_subplots(\n",
    "    rows=4, shared_xaxes=True, subplot_titles=['Observations', 'Trend', 'Season', 'Resid'],\n",
    "    vertical_spacing=0.05\n",
    ")\n",
    "fig.update_layout(height=1000, showlegend=False)\n",
    "\n",
    "for shop, data in tmp.groupby('shop_id'):\n",
    "    stl = STL(data.item_cnt_day, period=12, seasonal=13)\n",
    "    res = stl.fit()\n",
    "    fig.append_trace(\n",
    "        go.Scatter(\n",
    "            x=data.date_block_num, y=res.observed, mode='lines', line=dict(width=1), opacity=0.3\n",
    "        ), row=1, col=1\n",
    "    )\n",
    "    fig.append_trace(\n",
    "        go.Scatter(\n",
    "            x=data.date_block_num, y=res.trend, mode='lines', line=dict(width=1), opacity=0.3\n",
    "        ), row=2, col=1\n",
    "    )\n",
    "    fig.append_trace(\n",
    "        go.Scatter(\n",
    "            x=data.date_block_num, y=res.seasonal, mode='lines', line=dict(width=1), opacity=0.3\n",
    "        ), row=3, col=1\n",
    "    )\n",
    "    fig.append_trace(\n",
    "        go.Scatter(\n",
    "            x=data.date_block_num, y=res.resid, mode='lines', line=dict(width=1), opacity=0.3\n",
    "        ), row=4, col=1\n",
    "    )\n",
    "\n",
    "tmp = sales_train.groupby('date_block_num')['item_cnt_day'].sum().reset_index() \n",
    "tmp.loc[:, 'item_cnt_day'] /= sales_train.shop_id.nunique()\n",
    "stl = STL(tmp.item_cnt_day, period=3, seasonal=5, trend=5)\n",
    "res = stl.fit()\n",
    "fig.append_trace(\n",
    "    go.Scatter(\n",
    "        x=tmp.date_block_num, y=res.observed, mode='lines', line=dict(width=2, color='black'), \n",
    "    ), row=1, col=1\n",
    ")\n",
    "fig.append_trace(\n",
    "    go.Scatter(\n",
    "        x=tmp.date_block_num, y=res.trend, mode='lines', line=dict(width=2, color='black'), \n",
    "    ), row=2, col=1\n",
    ")\n",
    "fig.append_trace(\n",
    "    go.Scatter(\n",
    "        x=tmp.date_block_num, y=res.seasonal, mode='lines', line=dict(width=2, color='black'), \n",
    "    ), row=3, col=1\n",
    ")\n",
    "fig.append_trace(\n",
    "    go.Scatter(\n",
    "        x=tmp.date_block_num, y=res.resid, mode='lines', line=dict(width=2, color='black'),\n",
    "    ), row=4, col=1\n",
    ")\n",
    "\n",
    "fig"
   ]
  },
  {
   "cell_type": "code",
   "execution_count": null,
   "metadata": {},
   "outputs": [],
   "source": [
    "best_shop = sales_train.loc[sales_train.shop_id==31].groupby('date')['income'].sum()\n",
    "best_shop.head()"
   ]
  },
  {
   "cell_type": "code",
   "execution_count": null,
   "metadata": {},
   "outputs": [],
   "source": [
    "from statsmodels.tsa.seasonal import seasonal_decompose"
   ]
  },
  {
   "cell_type": "code",
   "execution_count": null,
   "metadata": {},
   "outputs": [],
   "source": [
    "weekly_decompose = seasonal_decompose(best_shop, model='add', period=7)\n",
    "px.line(weekly_decompose.seasonal)"
   ]
  },
  {
   "cell_type": "code",
   "execution_count": null,
   "metadata": {},
   "outputs": [],
   "source": [
    "monthly_decompose = seasonal_decompose(best_shop - weekly_decompose.seasonal, model='add', period=30)\n",
    "px.line(monthly_decompose.seasonal)"
   ]
  },
  {
   "cell_type": "code",
   "execution_count": null,
   "metadata": {},
   "outputs": [],
   "source": [
    "annual_decompose = seasonal_decompose(best_shop - monthly_decompose.seasonal - weekly_decompose.seasonal, model='add', period=365)\n",
    "px.line(annual_decompose.seasonal)"
   ]
  },
  {
   "cell_type": "code",
   "execution_count": null,
   "metadata": {},
   "outputs": [],
   "source": [
    "px.line(best_shop - annual_decompose.seasonal - monthly_decompose.seasonal - weekly_decompose.seasonal)"
   ]
  },
  {
   "cell_type": "markdown",
   "metadata": {},
   "source": [
    "# Test items overview"
   ]
  },
  {
   "cell_type": "code",
   "execution_count": null,
   "metadata": {},
   "outputs": [],
   "source": [
    "cnt = sales_train.groupby(['shop_id', 'item_id'])['date_block_num'].nunique().reset_index()\n",
    "\n",
    "test_covered = test.merge(cnt, how='left').fillna(0)\n",
    "\n",
    "px.histogram(test_covered, x='date_block_num')"
   ]
  },
  {
   "cell_type": "markdown",
   "metadata": {},
   "source": [
    "There is a lot of new products that have not yet been sold. That is problematic because it will require to predict  the sold amount based on similar products from the past."
   ]
  },
  {
   "cell_type": "code",
   "execution_count": null,
   "metadata": {},
   "outputs": [],
   "source": [
    "cnt = sales_train.groupby(['shop_id', 'item_category_id'])['date_block_num'].nunique().reset_index()\n",
    "\n",
    "test_covered = test.merge(items.loc[:, ['item_category_id', 'item_id']]).merge(cnt, how='left').fillna(0)\n",
    "\n",
    "px.histogram(test_covered, x='date_block_num')"
   ]
  },
  {
   "cell_type": "markdown",
   "metadata": {},
   "source": [
    "# ARIMA"
   ]
  },
  {
   "cell_type": "code",
   "execution_count": null,
   "metadata": {},
   "outputs": [],
   "source": [
    "# Useful diagnostic functions"
   ]
  },
  {
   "cell_type": "code",
   "execution_count": null,
   "metadata": {},
   "outputs": [],
   "source": [
    "from statsmodels.tsa.stattools import kpss\n",
    "from statsmodels.tsa.stattools import acf, pacf\n",
    "from statsmodels.graphics.tsaplots import plot_acf, plot_pacf"
   ]
  },
  {
   "cell_type": "code",
   "execution_count": null,
   "metadata": {},
   "outputs": [],
   "source": [
    "sales_train.head()"
   ]
  },
  {
   "cell_type": "code",
   "execution_count": null,
   "metadata": {},
   "outputs": [],
   "source": [
    "sales_train.shop_id.value_counts().head()"
   ]
  },
  {
   "cell_type": "code",
   "execution_count": null,
   "metadata": {},
   "outputs": [],
   "source": [
    "sales_toy = sales_train.loc[sales_train.shop_id==31]\n",
    "sales_toy"
   ]
  },
  {
   "cell_type": "code",
   "execution_count": null,
   "metadata": {},
   "outputs": [],
   "source": [
    "# sales_toy.item_id.value_counts().head()"
   ]
  },
  {
   "cell_type": "code",
   "execution_count": null,
   "metadata": {},
   "outputs": [],
   "source": [
    "# sales_toy = sales_toy.loc[sales_toy.item_id==20949]"
   ]
  },
  {
   "cell_type": "code",
   "execution_count": null,
   "metadata": {},
   "outputs": [],
   "source": [
    "sales_toy = sales_toy.groupby('date_block_num')[['income']].sum().reset_index()\n",
    "sales_toy.head()"
   ]
  },
  {
   "cell_type": "code",
   "execution_count": null,
   "metadata": {
    "scrolled": false
   },
   "outputs": [],
   "source": [
    "def is_stationary(x, y, nlags=31):\n",
    "    px.line(x=x, y=y).show()\n",
    "    _, p, _, _ = kpss(y.dropna(), regression='c', nlags='auto')\n",
    "    print(f'KPSS p-value: {p}. Data are {\"NOT \" if p < 0.05 else \"\"}stationary.')\n",
    "    ac, confint, qstat, pvalues = acf(y, nlags=nlags, qstat=True, alpha=0.05, fft=False)\n",
    "\n",
    "    fig = px.scatter(\n",
    "        x=np.arange(nlags+1), \n",
    "        y=ac, \n",
    "    )\n",
    "    \n",
    "    fig.add_traces(\n",
    "        [go.Scatter(x=np.arange(nlags + 1), y=ac - confint[:, 0],\n",
    "                    fill='tozeroy', mode='none', fillcolor='rgba(219,106,100,0.3)'),\n",
    "         go.Scatter(x=np.arange(nlags + 1), y=confint[:, 0] - ac,\n",
    "                    fill='tozeroy', mode='none', fillcolor='rgba(219,106,100,0.3)')]\n",
    "    )\n",
    "    \n",
    "    fig.update_layout(\n",
    "        yaxis = dict(title='ACF'),\n",
    "        xaxis = dict(title='lag')\n",
    "    ).show()\n",
    "\n",
    "    ac, confint = pacf(y, nlags=nlags,alpha=0.05)\n",
    "    \n",
    "    fig = px.scatter(\n",
    "        x=np.arange(nlags+1), \n",
    "        y=ac, \n",
    "    )\n",
    "    \n",
    "    fig.add_traces(\n",
    "        [go.Scatter(x=np.arange(nlags + 1), y=ac - confint[:, 0],\n",
    "                    fill='tozeroy', mode='none', fillcolor='rgba(219,106,100,0.3)'),\n",
    "         go.Scatter(x=np.arange(nlags + 1), y=confint[:, 0] - ac,\n",
    "                    fill='tozeroy', mode='none', fillcolor='rgba(219,106,100,0.3)')]\n",
    "    )\n",
    "    \n",
    "    fig.update_layout(\n",
    "        yaxis = dict(title='PACF'),\n",
    "        xaxis = dict(title='lag')\n",
    "    ).show()\n",
    "\n",
    "    "
   ]
  },
  {
   "cell_type": "code",
   "execution_count": null,
   "metadata": {},
   "outputs": [],
   "source": [
    "is_stationary(sales_toy.date_block_num, sales_toy.income, nlags=len(sales_toy) // 2 - 1)"
   ]
  },
  {
   "cell_type": "code",
   "execution_count": null,
   "metadata": {
    "scrolled": false
   },
   "outputs": [],
   "source": [
    "# is_stationary(sales_toy.date, sales_toy.income.diff().fillna(0), nlags=380)"
   ]
  },
  {
   "cell_type": "code",
   "execution_count": null,
   "metadata": {},
   "outputs": [],
   "source": [
    "len(sales_toy)"
   ]
  },
  {
   "cell_type": "code",
   "execution_count": null,
   "metadata": {
    "scrolled": false
   },
   "outputs": [],
   "source": [
    "# # for daily model\n",
    "# arima = ARIMA(sales_toy.loc[:950, 'income'], order=(5, 1, 0), seasonal_order=(7, 1, 0, 365))\n",
    "# res = arima.fit()\n",
    "\n",
    "# fig = go.Figure()\n",
    "# fig.add_traces(\n",
    "#     [\n",
    "#         go.Scatter(x=sales_toy.date, y=sales_toy.income, name='data'),\n",
    "#         go.Scatter(x=sales_toy.date, y=res.predict(), name='prediction'),\n",
    "#         go.Scatter(x=sales_toy.date.iloc[950:], y=res.forecast(90), name='forecast'),\n",
    "#     ]\n",
    "# ).show()\n",
    "\n",
    "# res.summary()"
   ]
  },
  {
   "cell_type": "code",
   "execution_count": null,
   "metadata": {
    "scrolled": false
   },
   "outputs": [],
   "source": [
    "# month model\n",
    "arima = ARIMA(sales_toy.loc[:28, 'income'], order=(3, 1, 0), seasonal_order=(3, 1, 0, 12))\n",
    "res = arima.fit()\n",
    "\n",
    "fig = go.Figure()\n",
    "fig.add_traces(\n",
    "    [\n",
    "        go.Scatter(x=sales_toy.date_block_num, y=sales_toy.income, name='data'),\n",
    "        go.Scatter(x=sales_toy.date_block_num, y=res.predict(), name='prediction'),\n",
    "        go.Scatter(x=sales_toy.date_block_num.iloc[28:], y=res.forecast(8), name='forecast'),\n",
    "    ]\n",
    ").show()\n",
    "\n",
    "res.summary()"
   ]
  },
  {
   "cell_type": "code",
   "execution_count": null,
   "metadata": {},
   "outputs": [],
   "source": []
  },
  {
   "cell_type": "code",
   "execution_count": null,
   "metadata": {},
   "outputs": [],
   "source": []
  },
  {
   "cell_type": "code",
   "execution_count": null,
   "metadata": {},
   "outputs": [],
   "source": []
  }
 ],
 "metadata": {
  "kernelspec": {
   "display_name": "Python 3",
   "language": "python",
   "name": "python3"
  },
  "language_info": {
   "codemirror_mode": {
    "name": "ipython",
    "version": 3
   },
   "file_extension": ".py",
   "mimetype": "text/x-python",
   "name": "python",
   "nbconvert_exporter": "python",
   "pygments_lexer": "ipython3",
   "version": "3.8.5"
  },
  "toc": {
   "base_numbering": 1,
   "nav_menu": {},
   "number_sections": true,
   "sideBar": true,
   "skip_h1_title": false,
   "title_cell": "Table of Contents",
   "title_sidebar": "Contents",
   "toc_cell": true,
   "toc_position": {},
   "toc_section_display": true,
   "toc_window_display": true
  }
 },
 "nbformat": 4,
 "nbformat_minor": 4
}
