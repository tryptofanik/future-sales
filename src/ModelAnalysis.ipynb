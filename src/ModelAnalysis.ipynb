{
 "cells": [
  {
   "cell_type": "markdown",
   "metadata": {},
   "source": [
    "# Import, setups"
   ]
  },
  {
   "cell_type": "code",
   "execution_count": null,
   "metadata": {
    "ExecuteTime": {
     "end_time": "2020-10-25T16:05:50.769121Z",
     "start_time": "2020-10-25T16:05:50.666335Z"
    }
   },
   "outputs": [],
   "source": [
    "%load_ext autoreload\n",
    "%autoreload 2"
   ]
  },
  {
   "cell_type": "code",
   "execution_count": null,
   "metadata": {
    "ExecuteTime": {
     "end_time": "2020-10-25T16:56:06.526063Z",
     "start_time": "2020-10-25T16:56:04.567925Z"
    },
    "pycharm": {
     "is_executing": true
    }
   },
   "outputs": [],
   "source": [
    "import pandas as pd\n",
    "import numpy as np\n",
    "import plotly\n",
    "import plotly.express as px\n",
    "import plotly.graph_objects as go\n",
    "from tqdm.notebook import tqdm\n",
    "import seaborn as sns\n",
    "\n",
    "from tensorflow.python.keras.models import Sequential\n",
    "from tensorflow.python.keras.layers import Dense, LSTM, Bidirectional, Dropout\n",
    "from tensorflow.python.keras.optimizers import Adam\n",
    "from tensorflow.keras.models import load_model\n",
    "from tensorflow.python.keras.callbacks import EarlyStopping, ModelCheckpoint\n",
    "\n",
    "import matplotlib.pyplot as plt\n",
    "from math import sqrt\n",
    "\n",
    "from statsmodels.graphics.gofplots import qqplot\n",
    "from statsmodels.stats.multitest import multipletests\n",
    "from statsmodels.tsa.seasonal import seasonal_decompose\n",
    "\n",
    "from sklearn.model_selection import TimeSeriesSplit\n",
    "from sklearn.preprocessing import LabelEncoder\n",
    "from sklearn.metrics import mean_squared_error\n",
    "\n",
    "import tensorflow.keras.backend as K\n",
    "\n",
    "import scipy\n",
    "\n",
    "import warnings"
   ]
  },
  {
   "cell_type": "markdown",
   "metadata": {},
   "source": [
    "# Read data"
   ]
  },
  {
   "cell_type": "code",
   "execution_count": null,
   "metadata": {
    "ExecuteTime": {
     "end_time": "2020-10-25T16:05:55.101241Z",
     "start_time": "2020-10-25T16:05:54.931978Z"
    }
   },
   "outputs": [],
   "source": [
    "DATA_PREFIX = '../data/'"
   ]
  },
  {
   "cell_type": "code",
   "execution_count": null,
   "metadata": {
    "ExecuteTime": {
     "end_time": "2020-10-25T16:05:58.844220Z",
     "start_time": "2020-10-25T16:05:55.117167Z"
    }
   },
   "outputs": [],
   "source": [
    "item_categories = pd.read_csv(DATA_PREFIX + 'item_categories.csv')\n",
    "items = pd.read_csv(DATA_PREFIX + 'items.csv')\n",
    "sales_train = pd.read_csv(DATA_PREFIX + 'sales_train.csv')\n",
    "shops = pd.read_csv(DATA_PREFIX + 'shops.csv')\n",
    "test = pd.read_csv(DATA_PREFIX + 'test.csv')"
   ]
  },
  {
   "cell_type": "code",
   "execution_count": null,
   "metadata": {
    "ExecuteTime": {
     "end_time": "2020-10-25T16:05:59.101293Z",
     "start_time": "2020-10-25T16:05:58.864096Z"
    }
   },
   "outputs": [],
   "source": [
    "shops.head()"
   ]
  },
  {
   "cell_type": "code",
   "execution_count": null,
   "metadata": {
    "ExecuteTime": {
     "end_time": "2020-10-25T16:05:59.529270Z",
     "start_time": "2020-10-25T16:05:59.141841Z"
    }
   },
   "outputs": [],
   "source": [
    "print(len(item_categories))\n",
    "item_categories.head()"
   ]
  },
  {
   "cell_type": "code",
   "execution_count": null,
   "metadata": {
    "ExecuteTime": {
     "end_time": "2020-10-25T16:05:59.695186Z",
     "start_time": "2020-10-25T16:05:59.535281Z"
    }
   },
   "outputs": [],
   "source": [
    "print(len(items))\n",
    "items.head()"
   ]
  },
  {
   "cell_type": "code",
   "execution_count": null,
   "metadata": {
    "ExecuteTime": {
     "end_time": "2020-10-25T16:06:00.166883Z",
     "start_time": "2020-10-25T16:05:59.868552Z"
    }
   },
   "outputs": [],
   "source": [
    "# Merge category of item to each of the items\n",
    "# items = items.merge(item_categories, on='item_category_id')\n",
    "items.head()"
   ]
  },
  {
   "cell_type": "code",
   "execution_count": null,
   "metadata": {
    "ExecuteTime": {
     "end_time": "2020-10-25T16:06:00.288420Z",
     "start_time": "2020-10-25T16:06:00.198006Z"
    }
   },
   "outputs": [],
   "source": [
    "sales_train.head()"
   ]
  },
  {
   "cell_type": "code",
   "execution_count": null,
   "metadata": {},
   "outputs": [],
   "source": [
    "sales_train.date_block_num.unique()"
   ]
  },
  {
   "cell_type": "code",
   "execution_count": null,
   "metadata": {
    "ExecuteTime": {
     "end_time": "2020-10-25T16:06:01.533967Z",
     "start_time": "2020-10-25T16:06:00.304815Z"
    }
   },
   "outputs": [],
   "source": [
    "sales_train = sales_train.merge(items.loc[:, ['item_id', 'item_category_id']], on='item_id')"
   ]
  },
  {
   "cell_type": "code",
   "execution_count": null,
   "metadata": {
    "ExecuteTime": {
     "end_time": "2020-10-25T16:06:03.886329Z",
     "start_time": "2020-10-25T16:06:01.579502Z"
    }
   },
   "outputs": [],
   "source": [
    "sales_train.describe()"
   ]
  },
  {
   "cell_type": "code",
   "execution_count": null,
   "metadata": {
    "ExecuteTime": {
     "end_time": "2020-10-25T16:06:04.359283Z",
     "start_time": "2020-10-25T16:06:04.033767Z"
    }
   },
   "outputs": [],
   "source": [
    "sales_train.info()"
   ]
  },
  {
   "cell_type": "code",
   "execution_count": null,
   "metadata": {
    "ExecuteTime": {
     "end_time": "2020-10-25T16:06:05.582015Z",
     "start_time": "2020-10-25T16:06:04.389780Z"
    }
   },
   "outputs": [],
   "source": [
    "sales_train.loc[:, 'date'] = pd.to_datetime(sales_train.date)"
   ]
  },
  {
   "cell_type": "code",
   "execution_count": null,
   "metadata": {
    "ExecuteTime": {
     "end_time": "2020-10-25T16:06:09.125482Z",
     "start_time": "2020-10-25T16:06:05.639026Z"
    }
   },
   "outputs": [],
   "source": [
    "sales_train = sales_train.sort_values(\n",
    "    ['date', 'shop_id', 'item_category_id', 'item_id']\n",
    ").reset_index(drop=True)"
   ]
  },
  {
   "cell_type": "code",
   "execution_count": null,
   "metadata": {
    "ExecuteTime": {
     "end_time": "2020-10-25T16:06:11.997255Z",
     "start_time": "2020-10-25T16:06:09.179183Z"
    },
    "scrolled": true
   },
   "outputs": [],
   "source": [
    "sales_train.loc[:, 'day'] = sales_train.date.dt.day\n",
    "sales_train.loc[:, 'month'] = sales_train.date.dt.month\n",
    "sales_train.loc[:, 'year'] = sales_train.date.dt.year\n",
    "sales_train.loc[:, 'dayofweek'] = sales_train.date.dt.dayofweek"
   ]
  },
  {
   "cell_type": "code",
   "execution_count": null,
   "metadata": {
    "ExecuteTime": {
     "end_time": "2020-10-25T16:06:13.365905Z",
     "start_time": "2020-10-25T16:06:12.030841Z"
    }
   },
   "outputs": [],
   "source": [
    "sales_train.loc[:, 'income'] = sales_train.item_price * sales_train.item_cnt_day"
   ]
  },
  {
   "cell_type": "code",
   "execution_count": null,
   "metadata": {},
   "outputs": [],
   "source": [
    "months = ['January', 'February', 'March', 'April', 'May', 'June', 'July', \n",
    "          'August', 'September', 'October', 'November', 'December']\n",
    "lstm_train = sales_train.groupby(['date_block_num', 'item_id', 'shop_id'])['item_cnt_day'].sum().reset_index()\n",
    "lstm_train = lstm_train.rename(columns={'item_cnt_day':'item_cnt_month'})"
   ]
  },
  {
   "cell_type": "markdown",
   "metadata": {
    "pycharm": {
     "is_executing": true
    }
   },
   "source": [
    "# Data Preparation"
   ]
  },
  {
   "cell_type": "code",
   "execution_count": null,
   "metadata": {},
   "outputs": [],
   "source": [
    "seq_frame = sales_train.rename(columns={'item_cnt_day':'item_cnt_month'})\n",
    "#seq_frame = seq_frame.query('item_cnt_month >= 0 and item_cnt_month <= 20')\n",
    "seq_frame.head()"
   ]
  },
  {
   "cell_type": "code",
   "execution_count": null,
   "metadata": {},
   "outputs": [],
   "source": [
    "seq_frame = seq_frame.pivot_table(index = ['shop_id','item_id'],values = ['item_cnt_month'],columns = ['date_block_num'],fill_value = 0,aggfunc=np.sum).reset_index()\n",
    "seq_frame.fillna(0,inplace = True)\n",
    "seq_frame.head()"
   ]
  },
  {
   "cell_type": "code",
   "execution_count": null,
   "metadata": {},
   "outputs": [],
   "source": [
    "seq_frame = seq_frame[seq_frame.shop_id.isin(test.shop_id.unique())]\n",
    "seq_frame = seq_frame[seq_frame.item_id.isin(test.item_id.unique())]"
   ]
  },
  {
   "cell_type": "code",
   "execution_count": null,
   "metadata": {},
   "outputs": [],
   "source": [
    "seq_frame = pd.merge(test,seq_frame,on = ['item_id','shop_id'],how = 'left')\n",
    "seq_frame.fillna(0,inplace = True)\n",
    "seq_frame"
   ]
  },
  {
   "cell_type": "code",
   "execution_count": null,
   "metadata": {},
   "outputs": [],
   "source": [
    "seq_frame.drop(['shop_id','item_id','ID'],inplace = True, axis=1)\n",
    "seq_frame = seq_frame.clip(0, 20)\n",
    "seq_frame"
   ]
  },
  {
   "cell_type": "code",
   "execution_count": null,
   "metadata": {},
   "outputs": [],
   "source": [
    "#all the columns before the second last one\n",
    "X_train_seq = seq_frame.iloc[:,:-2].to_numpy()\n",
    "# the second last one is the label\n",
    "y_train_seq = seq_frame.iloc[:,-2:-1].to_numpy()\n",
    "# all columns except last one\n",
    "X_test_seq = seq_frame.iloc[:,1:-1].to_numpy()\n",
    "# last one is the label\n",
    "y_test_seq = seq_frame.iloc[:,-1:].to_numpy()\n",
    "\n",
    "X_train_seq.shape, y_train_seq.shape, X_test_seq.shape, y_test_seq.shape"
   ]
  },
  {
   "cell_type": "code",
   "execution_count": null,
   "metadata": {},
   "outputs": [],
   "source": [
    "X_train_seq = X_train_seq.reshape((X_train_seq.shape[0], 32, 1))\n",
    "X_test_seq = X_test_seq.reshape((X_test_seq.shape[0], 32, 1))\n",
    "print(X_train_seq.shape, X_test_seq.shape)"
   ]
  },
  {
   "cell_type": "markdown",
   "metadata": {},
   "source": [
    "# LSTM model for time series"
   ]
  },
  {
   "cell_type": "code",
   "execution_count": null,
   "metadata": {},
   "outputs": [],
   "source": [
    "model = Sequential()\n",
    "model.add(LSTM(units = 64,input_shape = (32,1)))\n",
    "model.add(Dropout(0.4))\n",
    "model.add(Dense(1))\n",
    "model.compile(optimizer='adam', loss='mse')"
   ]
  },
  {
   "cell_type": "code",
   "execution_count": null,
   "metadata": {},
   "outputs": [],
   "source": [
    "# int(len(X_train)/32)\n",
    "model_check = ModelCheckpoint(\"./models5\", monitor='loss',save_best_only=True,save_weights_only=False, mode='min')\n",
    "history = model.fit(X_train_seq, y_train_seq, batch_size = 4096, epochs=50, verbose=2, shuffle=False, callbacks=[model_check])"
   ]
  },
  {
   "cell_type": "code",
   "execution_count": null,
   "metadata": {},
   "outputs": [],
   "source": [
    "# models 2 - minimum loss 1.9971\n",
    "# models 3 - minimum loss 1.9813\n",
    "# models 4 - RMSE of 0.902\n",
    "# models 5 - RMSE of 0.905, min loss of 0.8230"
   ]
  },
  {
   "cell_type": "code",
   "execution_count": null,
   "metadata": {},
   "outputs": [],
   "source": [
    "new_model = load_model(\"./models5\")"
   ]
  },
  {
   "cell_type": "code",
   "execution_count": null,
   "metadata": {},
   "outputs": [],
   "source": [
    "plt.plot(history.history['loss'], label='train')\n",
    "plt.legend()\n",
    "plt.show()"
   ]
  },
  {
   "cell_type": "markdown",
   "metadata": {
    "pycharm": {
     "is_executing": true
    }
   },
   "source": [
    "# Model validation"
   ]
  },
  {
   "cell_type": "code",
   "execution_count": null,
   "metadata": {
    "pycharm": {
     "is_executing": true
    }
   },
   "outputs": [],
   "source": [
    "predictions = new_model.predict(X_test_seq)\n",
    "X_test_seq = X_test_seq.reshape((X_test_seq.shape[0], X_test_seq.shape[1]))"
   ]
  },
  {
   "cell_type": "code",
   "execution_count": null,
   "metadata": {
    "pycharm": {
     "is_executing": true
    }
   },
   "outputs": [],
   "source": [
    "rmse = sqrt(mean_squared_error(predictions, y_test_seq))\n",
    "print('RMSE: %.3f' % rmse)"
   ]
  },
  {
   "cell_type": "code",
   "execution_count": null,
   "metadata": {
    "pycharm": {
     "is_executing": true
    }
   },
   "outputs": [],
   "source": [
    "plt.plot(predictions, label='test data')\n",
    "plt.legend()\n",
    "plt.show()"
   ]
  },
  {
   "cell_type": "code",
   "execution_count": null,
   "metadata": {},
   "outputs": [],
   "source": []
  }
 ],
 "metadata": {
  "kernelspec": {
   "display_name": "Python 3",
   "language": "python",
   "name": "python3"
  },
  "language_info": {
   "codemirror_mode": {
    "name": "ipython",
    "version": 3
   },
   "file_extension": ".py",
   "mimetype": "text/x-python",
   "name": "python",
   "nbconvert_exporter": "python",
   "pygments_lexer": "ipython3",
   "version": "3.7.3"
  },
  "toc": {
   "base_numbering": 1,
   "nav_menu": {},
   "number_sections": true,
   "sideBar": true,
   "skip_h1_title": false,
   "title_cell": "Table of Contents",
   "title_sidebar": "Contents",
   "toc_cell": true,
   "toc_position": {},
   "toc_section_display": true,
   "toc_window_display": false
  }
 },
 "nbformat": 4,
 "nbformat_minor": 4
}
